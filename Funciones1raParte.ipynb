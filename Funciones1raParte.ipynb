{
 "cells": [
  {
   "cell_type": "code",
   "execution_count": 1,
   "metadata": {},
   "outputs": [],
   "source": [
    "import pandas as pd\n",
    "from fastapi.responses import JSONResponse"
   ]
  },
  {
   "cell_type": "code",
   "execution_count": 2,
   "metadata": {},
   "outputs": [],
   "source": [
    "df_gfec=pd.read_parquet(\"data/Generos_fecha.parquet\")\n",
    "\n",
    "df_ustiempo=pd.read_parquet('data/Usuarios_tiempo.parquet')\n",
    "df_ur=pd.read_parquet('data/func_3.parquet') "
   ]
  },
  {
   "cell_type": "code",
   "execution_count": 3,
   "metadata": {},
   "outputs": [],
   "source": [
    "def PlayTimeGenre( genero ): \n",
    "    #Debe devolver año con mas horas jugadas para dicho género.\n",
    "    #Ejemplo de retorno: {\"Año de lanzamiento con más horas jugadas para Género X\" : 2013}\n",
    "    if not isinstance(genero, str):\n",
    "        print(\"Genero ingresado incorrectamente\")\n",
    "        return\n",
    "    \n",
    "    generos=df_gfec[df_gfec[\"genres\"]==genero ]\n",
    "    if generos.empty:\n",
    "        return {'Ese genero no existe'}\n",
    "         \n",
    "    # Agrupar por \"release_date\" y sumar la columna \"time_forever\"\n",
    "    resultados_agrupados = generos.groupby('anio')['playtime_forever'].sum()\n",
    "    # Agrupar por \"release_date\" y sumar la columna \"time_forever\"\n",
    "    \n",
    "    # Encontrar la fecha con el valor máximo\n",
    "    max_release_date = resultados_agrupados.idxmax()\n",
    "    # Mostrar el resultado\n",
    "    print(f\"Año de lanzamiento con más horas jugadas para {genero}: {max_release_date}\")\n",
    "\n",
    "   \n",
    "    return"
   ]
  },
  {
   "cell_type": "code",
   "execution_count": 6,
   "metadata": {},
   "outputs": [
    {
     "name": "stdout",
     "output_type": "stream",
     "text": [
      "Año de lanzamiento con más horas jugadas para Indie: 2006\n"
     ]
    }
   ],
   "source": [
    "PlayTimeGenre(\"Indie\")"
   ]
  },
  {
   "cell_type": "code",
   "execution_count": 7,
   "metadata": {},
   "outputs": [],
   "source": [
    "def UserForGenre(genero: str):\n",
    "    #Debe devolver el usuario que acumula más horas jugadas para el género dado y una lista de la acumulación\n",
    "    # de horas jugadas por año.\n",
    "    #Ejemplo de retorno: {\"Usuario con más horas jugadas para Género X\" : us213ndjss09sdf,\n",
    "    # \"Horas jugadas\":[{Año: 2013, Horas: 203}, {Año: 2012, Horas: 100}, {Año: 2011, Horas: 23}]}\n",
    "    # Comprobar si el género es una cadena\n",
    "    if not isinstance(genero, str):\n",
    "        return {\"Error\": \"Género ingresado incorrectamente\"}\n",
    "\n",
    "    # Filtrar el DataFrame por el género dado\n",
    "    generos = df_ustiempo[df_ustiempo[\"genres\"] == genero]\n",
    "\n",
    "    # Comprobar si el género existe en el DataFrame\n",
    "    if generos.empty:\n",
    "        return {'Error': 'Ese género no existe'}\n",
    "\n",
    "    # Agrupar por \"user_id\" y sumar la columna \"playtime_forever\"\n",
    "    resultados_agrupados = generos.groupby('user_id')['playtime_forever'].sum()\n",
    "\n",
    "    # Encontrar el usuario con más horas jugadas\n",
    "    max_por_id = resultados_agrupados.idxmax()\n",
    "\n",
    "    # Filtrar el DataFrame para contener solo las filas con 'user_id' igual al máximo\n",
    "    df_max = generos[generos['user_id'] == max_por_id]\n",
    "\n",
    "    # Crear una lista de acumulación de horas jugadas por año\n",
    "    acumulacion_horas_anio = df_max.groupby(df_max['anio'])['playtime_forever'].sum()\n",
    "\n",
    "    # Crear una lista de diccionarios con el año y las horas jugadas\n",
    "    lista_acumulacion = [{\"Año\": anio, \"Horas\": horas} for anio, horas in acumulacion_horas_anio.items()]\n",
    "\n",
    "    respuesta = {\n",
    "        \"Usuario con más horas jugadas para {}\".format(genero): max_por_id,\n",
    "        \"Horas jugadas\": lista_acumulacion\n",
    "    }\n",
    "\n",
    "    return respuesta\n"
   ]
  },
  {
   "cell_type": "code",
   "execution_count": 8,
   "metadata": {},
   "outputs": [
    {
     "data": {
      "text/plain": [
       "{'Usuario con más horas jugadas para RPG': 'Icebrrg1245',\n",
       " 'Horas jugadas': [{'Año': '2011', 'Horas': 49013},\n",
       "  {'Año': '2013', 'Horas': 127},\n",
       "  {'Año': '2014', 'Horas': 300977}]}"
      ]
     },
     "execution_count": 8,
     "metadata": {},
     "output_type": "execute_result"
    }
   ],
   "source": [
    "UserForGenre( \"RPG\" )"
   ]
  },
  {
   "cell_type": "code",
   "execution_count": 9,
   "metadata": {},
   "outputs": [],
   "source": [
    "def UsersRecommend(anio: int):\n",
    "    positivos = df_ur[(df_ur['anio'] == anio) & (df_ur['recommend'] == True) & (df_ur['sentiment_analysis'] >= 0)]\n",
    "\n",
    "    if positivos.empty:\n",
    "        return {\"No hay datos para ese año\"}\n",
    "\n",
    "    recomendaciones = positivos['item_id'].value_counts().reset_index()\n",
    "    recomendaciones.columns = ['item_id', 'count']\n",
    "    \n",
    "    recomendaciones = pd.merge(recomendaciones, df_ur[['item_id', 'item_name']], on='item_id', how='left')\n",
    "    recomendaciones = recomendaciones.drop_duplicates()\n",
    "    \n",
    "    top_3_games = recomendaciones.sort_values(by='count', ascending=False).head(3)\n",
    "    top_3_games = top_3_games.reset_index(drop=True)\n",
    "    print(top_3_games)\n",
    "    respuesta = [{\"Puesto \" + str(i + 1): game['item_name']} for i, game in top_3_games.iterrows()]\n",
    "\n",
    "    return JSONResponse(content=respuesta)\n"
   ]
  },
  {
   "cell_type": "code",
   "execution_count": 142,
   "metadata": {},
   "outputs": [
    {
     "name": "stdout",
     "output_type": "stream",
     "text": [
      "   item_id  count      item_name\n",
      "0   105600     43       Terraria\n",
      "1     4000     39    Garry's Mod\n",
      "2      550     36  Left 4 Dead 2\n"
     ]
    },
    {
     "data": {
      "text/plain": [
       "<starlette.responses.JSONResponse at 0x20db20f3f40>"
      ]
     },
     "execution_count": 142,
     "metadata": {},
     "output_type": "execute_result"
    }
   ],
   "source": [
    "UsersRecommend( 2012)"
   ]
  },
  {
   "cell_type": "code",
   "execution_count": 11,
   "metadata": {},
   "outputs": [],
   "source": [
    "def UsersNotRecommend( año : int ):\n",
    "    #Devuelve el top 3 de juegos MENOS recomendados por usuarios para el año dado.\n",
    "    # (reviews.recommend = False y comentarios negativos)\n",
    "    positivos = df_ur[(df_ur['anio'] == año) & (df_ur['recommend'] == False) ]\n",
    "\n",
    "    # Contar cuántas revisiones tiene cada juego\n",
    "    recomendaciones = positivos['item_id'].value_counts().reset_index()\n",
    "    recomendaciones.columns = ['item_id', 'count']\n",
    "\n",
    "    # Fusionar 'recomendaciones' con 'df_ur' para obtener los nombres\n",
    "    recomendaciones = pd.merge(recomendaciones, df_ur[['item_id', 'item_name']], on='item_id', how='left')\n",
    "    # Realizo el merge de ambos DataFrames borro duplicados\n",
    "    recomendaciones=recomendaciones.drop_duplicates()\n",
    "\n",
    "    # Ordenar los juegos en función del número de revisiones en orden descendente\n",
    "    game_recommendations = recomendaciones.sort_values(by='count', ascending=False)\n",
    "\n",
    "    # Tomar los 3 juegos más recomendados\n",
    "    top_3_games = game_recommendations.head(3)\n",
    "    #merged_df = pd.merge(top_3_games, df_ur, left_on='item_id', right_on='item_id', how='inner')\n",
    "    # Tomar los 3 juegos más recomendados\n",
    "    top_3_games = game_recommendations.head(3)\n",
    "\n",
    "    # Crear el formato de salida\n",
    "    top_3_games = [{\"Puesto \" + str(i + 1): game} for i, game in enumerate(top_3_games['item_name'])]\n",
    "    if top_3_games:\n",
    "        print(top_3_games)\n",
    "    else:\n",
    "        print(\"No hay datos para esa fecha\")\n",
    "    return"
   ]
  },
  {
   "cell_type": "code",
   "execution_count": 12,
   "metadata": {},
   "outputs": [
    {
     "name": "stdout",
     "output_type": "stream",
     "text": [
      "[{'Puesto 1': 'And Yet It Moves'}, {'Puesto 2': 'Fable III'}, {'Puesto 3': 'Counter-Strike: Source'}]\n"
     ]
    }
   ],
   "source": [
    "UsersNotRecommend(2011)"
   ]
  },
  {
   "cell_type": "code",
   "execution_count": 13,
   "metadata": {},
   "outputs": [],
   "source": [
    "def sentiment_analysis( año : int ):\n",
    "    #Según el año de lanzamiento, se devuelve una lista con la cantidad de registros de reseñas de usuarios\n",
    "    # que se encuentren categorizados con un análisis de sentimiento.\n",
    "    #Ejemplo de retorno: {Negative = 182, Neutral = 120, Positive = 278}\n",
    "    # Agrupar por año y contar las categorías de análisis de sentimiento\n",
    "    \n",
    "    sent_por_anio = df_ur.groupby('anio')['sentiment_analysis'].value_counts().unstack(fill_value=0)\n",
    "   \n",
    "    # Verificar si el año existe en el índice del DataFrame\n",
    "    if año in sent_por_anio.index:\n",
    "        # El año existe, así que puedo filtrar \n",
    "        sent_por_anio = sent_por_anio.loc[año].to_dict()\n",
    "          \n",
    "        print(f\"Negativo : {sent_por_anio[0]} , Neutral : {sent_por_anio[1]} Positivo: {sent_por_anio[2]}\")\n",
    "    else:\n",
    "        print(f\"No se encontraron datos para el año {año}.\")\n",
    "    return\n"
   ]
  },
  {
   "cell_type": "code",
   "execution_count": 14,
   "metadata": {},
   "outputs": [
    {
     "name": "stdout",
     "output_type": "stream",
     "text": [
      "Negativo : 855 , Neutral : 471 Positivo: 4265\n"
     ]
    }
   ],
   "source": [
    "sentiment_analysis( 2013)"
   ]
  }
 ],
 "metadata": {
  "kernelspec": {
   "display_name": "Python 3",
   "language": "python",
   "name": "python3"
  },
  "language_info": {
   "codemirror_mode": {
    "name": "ipython",
    "version": 3
   },
   "file_extension": ".py",
   "mimetype": "text/x-python",
   "name": "python",
   "nbconvert_exporter": "python",
   "pygments_lexer": "ipython3",
   "version": "3.10.10"
  }
 },
 "nbformat": 4,
 "nbformat_minor": 2
}
