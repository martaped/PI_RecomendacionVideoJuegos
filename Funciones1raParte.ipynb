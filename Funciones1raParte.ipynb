{
 "cells": [
  {
   "cell_type": "code",
   "execution_count": null,
   "metadata": {},
   "outputs": [],
   "source": [
    "import pandas as pd"
   ]
  },
  {
   "cell_type": "code",
   "execution_count": 5,
   "metadata": {},
   "outputs": [],
   "source": [
    "df_gfec=pd.read_parquet(\"Generos_fecha.parquet\")\n",
    "\n",
    "df_ustiempo=pd.read_parquet('Usuarios_tiempo.parquet')"
   ]
  },
  {
   "cell_type": "code",
   "execution_count": 8,
   "metadata": {},
   "outputs": [],
   "source": [
    "def PlayTimeGenre( genero ): \n",
    "    #Debe devolver año con mas horas jugadas para dicho género.\n",
    "    #Ejemplo de retorno: {\"Año de lanzamiento con más horas jugadas para Género X\" : 2013}\n",
    "    if not isinstance(genero, str):\n",
    "        print(\"Genero ingresado incorrectamente\")\n",
    "        return\n",
    "    \n",
    "    generos=df_gfec[df_gfec[\"genres\"]==genero ]\n",
    "    if generos.empty:\n",
    "        print('Ese genero no existe')\n",
    "        return\n",
    "    # Agrupar por \"release_date\" y sumar la columna \"time_forever\"\n",
    "    resultados_agrupados = generos.groupby('anio')['playtime_forever'].sum()\n",
    "    # Agrupar por \"release_date\" y sumar la columna \"time_forever\"\n",
    "    \n",
    "    # Encontrar la fecha con el valor máximo\n",
    "    max_release_date = resultados_agrupados.idxmax()\n",
    "    # Mostrar el resultado\n",
    "    print(f\"Año de lanzamiento con más horas jugadas para {genero}: {max_release_date}\")\n",
    "\n",
    "   \n",
    "    return"
   ]
  },
  {
   "cell_type": "code",
   "execution_count": 9,
   "metadata": {},
   "outputs": [
    {
     "name": "stdout",
     "output_type": "stream",
     "text": [
      "Año de lanzamiento con más horas jugadas para RPG: 2011\n"
     ]
    }
   ],
   "source": [
    "PlayTimeGenre( \"RPG\" )"
   ]
  },
  {
   "cell_type": "code",
   "execution_count": 10,
   "metadata": {},
   "outputs": [],
   "source": [
    "def UserForGenre( genero : str ): \n",
    "    #Debe devolver el usuario que acumula más horas jugadas para el género dado y una lista de la acumulación\n",
    "    # de horas jugadas por año.\n",
    "    #Ejemplo de retorno: {\"Usuario con más horas jugadas para Género X\" : us213ndjss09sdf,\n",
    "    # \"Horas jugadas\":[{Año: 2013, Horas: 203}, {Año: 2012, Horas: 100}, {Año: 2011, Horas: 23}]}\n",
    "    if not isinstance(genero, str):\n",
    "        print(\"Genero ingresado incorrectamente\")\n",
    "        return\n",
    "    generos=df_ustiempo[df_ustiempo[\"genres\"]==genero]\n",
    "    if generos.empty:\n",
    "        print('Ese genero no existe')\n",
    "        return\n",
    "    # Agrupar por \"user_id\" y sumar la columna \"time_forever\"\n",
    "    resultados_agrupados = generos.groupby('user_id')['playtime_forever'].sum()\n",
    "    # buscar el maximo\n",
    "    max_por_id = resultados_agrupados.idxmax()\n",
    "\n",
    "\n",
    "    # Filtrar el DataFrame para contener solo las filas con 'id' igual a maximo\n",
    "    df_max = generos[generos['user_id'] == max_por_id]\n",
    "    print(f\"Usuario con más horas jugadas para {genero} : {max_por_id}\")\n",
    "\n",
    "    # Agrupar por 'anio' y sumar la columna 'playtime_forever'\n",
    "    acumulacion_horas_anio = df_max.groupby(df_max['anio'])['playtime_forever'].sum()\n",
    "\n",
    "    # Crear una lista de acumulación de horas jugadas por año\n",
    "    lista_acumulacion = acumulacion_horas_anio.to_dict()\n",
    "\n",
    "    # Iterar a través de la lista e imprimir cada elemento en renglones\n",
    "    for anio,horas in lista_acumulacion.items():\n",
    "    \n",
    "        print(f'Año {anio} : Horas : {horas}')\n",
    "\n",
    "    print(\"Año 0 corresponde al año no informado\")\n",
    "    return\n",
    "    "
   ]
  },
  {
   "cell_type": "code",
   "execution_count": 11,
   "metadata": {},
   "outputs": [
    {
     "name": "stdout",
     "output_type": "stream",
     "text": [
      "Usuario con más horas jugadas para RPG : tobscene\n",
      "Año 0000 : Horas : 4345\n",
      "Año 1996 : Horas : 0\n",
      "Año 1999 : Horas : 82\n",
      "Año 2002 : Horas : 69\n",
      "Año 2003 : Horas : 22412\n",
      "Año 2005 : Horas : 0\n",
      "Año 2007 : Horas : 12226\n",
      "Año 2008 : Horas : 21159\n",
      "Año 2009 : Horas : 26950\n",
      "Año 2010 : Horas : 38857\n",
      "Año 2011 : Horas : 57369\n",
      "Año 2012 : Horas : 135736\n",
      "Año 2013 : Horas : 65152\n",
      "Año 2014 : Horas : 89693\n",
      "Año 2015 : Horas : 356563\n",
      "Año 2016 : Horas : 33245\n",
      "Año 2017 : Horas : 43078\n",
      "Año 0 corresponde al año no informado\n"
     ]
    }
   ],
   "source": [
    "UserForGenre( \"RPG\" )"
   ]
  },
  {
   "cell_type": "code",
   "execution_count": 36,
   "metadata": {},
   "outputs": [
    {
     "data": {
      "text/html": [
       "<div>\n",
       "<style scoped>\n",
       "    .dataframe tbody tr th:only-of-type {\n",
       "        vertical-align: middle;\n",
       "    }\n",
       "\n",
       "    .dataframe tbody tr th {\n",
       "        vertical-align: top;\n",
       "    }\n",
       "\n",
       "    .dataframe thead th {\n",
       "        text-align: right;\n",
       "    }\n",
       "</style>\n",
       "<table border=\"1\" class=\"dataframe\">\n",
       "  <thead>\n",
       "    <tr style=\"text-align: right;\">\n",
       "      <th></th>\n",
       "      <th>user_id</th>\n",
       "      <th>genres</th>\n",
       "      <th>playtime_forever</th>\n",
       "    </tr>\n",
       "  </thead>\n",
       "  <tbody>\n",
       "    <tr>\n",
       "      <th>0</th>\n",
       "      <td>--000--</td>\n",
       "      <td>Action</td>\n",
       "      <td>139469</td>\n",
       "    </tr>\n",
       "    <tr>\n",
       "      <th>1</th>\n",
       "      <td>--000--</td>\n",
       "      <td>Adventure</td>\n",
       "      <td>11722</td>\n",
       "    </tr>\n",
       "    <tr>\n",
       "      <th>2</th>\n",
       "      <td>--000--</td>\n",
       "      <td>Casual</td>\n",
       "      <td>16135</td>\n",
       "    </tr>\n",
       "    <tr>\n",
       "      <th>3</th>\n",
       "      <td>--000--</td>\n",
       "      <td>Early Access</td>\n",
       "      <td>531</td>\n",
       "    </tr>\n",
       "    <tr>\n",
       "      <th>4</th>\n",
       "      <td>--000--</td>\n",
       "      <td>Free to Play</td>\n",
       "      <td>20448</td>\n",
       "    </tr>\n",
       "    <tr>\n",
       "      <th>...</th>\n",
       "      <td>...</td>\n",
       "      <td>...</td>\n",
       "      <td>...</td>\n",
       "    </tr>\n",
       "    <tr>\n",
       "      <th>671321</th>\n",
       "      <td>zzzmidmiss</td>\n",
       "      <td>RPG</td>\n",
       "      <td>2337</td>\n",
       "    </tr>\n",
       "    <tr>\n",
       "      <th>671322</th>\n",
       "      <td>zzzmidmiss</td>\n",
       "      <td>Racing</td>\n",
       "      <td>9</td>\n",
       "    </tr>\n",
       "    <tr>\n",
       "      <th>671323</th>\n",
       "      <td>zzzmidmiss</td>\n",
       "      <td>Simulation</td>\n",
       "      <td>16</td>\n",
       "    </tr>\n",
       "    <tr>\n",
       "      <th>671324</th>\n",
       "      <td>zzzmidmiss</td>\n",
       "      <td>Sports</td>\n",
       "      <td>210</td>\n",
       "    </tr>\n",
       "    <tr>\n",
       "      <th>671325</th>\n",
       "      <td>zzzmidmiss</td>\n",
       "      <td>Strategy</td>\n",
       "      <td>1002</td>\n",
       "    </tr>\n",
       "  </tbody>\n",
       "</table>\n",
       "<p>671326 rows × 3 columns</p>\n",
       "</div>"
      ],
      "text/plain": [
       "           user_id        genres  playtime_forever\n",
       "0          --000--        Action            139469\n",
       "1          --000--     Adventure             11722\n",
       "2          --000--        Casual             16135\n",
       "3          --000--  Early Access               531\n",
       "4          --000--  Free to Play             20448\n",
       "...            ...           ...               ...\n",
       "671321  zzzmidmiss           RPG              2337\n",
       "671322  zzzmidmiss        Racing                 9\n",
       "671323  zzzmidmiss    Simulation                16\n",
       "671324  zzzmidmiss        Sports               210\n",
       "671325  zzzmidmiss      Strategy              1002\n",
       "\n",
       "[671326 rows x 3 columns]"
      ]
     },
     "execution_count": 36,
     "metadata": {},
     "output_type": "execute_result"
    }
   ],
   "source": [
    "df_ustiempo"
   ]
  },
  {
   "cell_type": "code",
   "execution_count": 13,
   "metadata": {},
   "outputs": [],
   "source": [
    "df_ur=pd.read_parquet('func_3.parquet') \n",
    "\n",
    "def UsersRecommend( año : int ): \n",
    "    #Devuelve el top 3 de juegos MÁS recomendados por usuarios para el año dado. \n",
    "    # (reviews.recommend = True y comentarios positivos/neutrales)\n",
    "    #Ejemplo de retorno: [{\"Puesto 1\" : X}, {\"Puesto 2\" : Y},{\"Puesto 3\" : Z}]\n",
    "    # Filtrar las revisiones para el año dado y recomendaciones positivas/neutrales\n",
    "   \n",
    "    positivos = df_ur[(df_ur['anio'] == año) & (df_ur['recommend'] == True) & (df_ur['sentiment_analysis'] >0)]\n",
    "\n",
    "    # Contar cuántas revisiones tiene cada juego\n",
    "    recomendaciones = positivos['item_id'].value_counts().reset_index()\n",
    "    recomendaciones.columns = ['item_id', 'count']\n",
    "\n",
    "    # Fusionar 'recomendaciones' con 'df_ur' para obtener los nombres\n",
    "    recomendaciones = pd.merge(recomendaciones, df_ur[['item_id', 'item_name']], on='item_id', how='left')\n",
    "    # Realizo el merge de ambos DataFrames borro duplicados\n",
    "    recomendaciones=recomendaciones.drop_duplicates()\n",
    "\n",
    "    # Ordenar los juegos en función del número de revisiones en orden descendente\n",
    "    game_recommendations = recomendaciones.sort_values(by='count', ascending=False)\n",
    "\n",
    "    # Tomar los 3 juegos más recomendados\n",
    "    top_3_games = game_recommendations.head(3)\n",
    "    #merged_df = pd.merge(top_3_games, df_ur, left_on='item_id', right_on='item_id', how='inner')\n",
    "    # Tomar los 3 juegos más recomendados\n",
    "    top_3_games = game_recommendations.head(3)\n",
    "\n",
    "    # Crear el formato de salida\n",
    "    top_3_games = [{\"Puesto \" + str(i + 1): game} for i, game in enumerate(top_3_games['item_name'])]\n",
    "\n",
    "    if top_3_games:\n",
    "        print(top_3_games)\n",
    "    else:\n",
    "        print(\"No hay datos para esa fecha\")\n",
    "    return"
   ]
  },
  {
   "cell_type": "code",
   "execution_count": 14,
   "metadata": {},
   "outputs": [
    {
     "name": "stdout",
     "output_type": "stream",
     "text": [
      "[{'Puesto 1': \"Garry's Mod\"}, {'Puesto 2': 'Left 4 Dead 2'}, {'Puesto 3': 'Counter-Strike: Global Offensive'}]\n"
     ]
    }
   ],
   "source": [
    "UsersRecommend( 2013)"
   ]
  },
  {
   "cell_type": "code",
   "execution_count": 89,
   "metadata": {},
   "outputs": [],
   "source": [
    "df_ur=pd.read_csv('func_3.csv') "
   ]
  },
  {
   "cell_type": "code",
   "execution_count": 15,
   "metadata": {},
   "outputs": [],
   "source": [
    "def UsersNotRecommend( año : int ):\n",
    "    #Devuelve el top 3 de juegos MENOS recomendados por usuarios para el año dado.\n",
    "    # (reviews.recommend = False y comentarios negativos)\n",
    "    positivos = df_ur[(df_ur['anio'] == año) & (df_ur['recommend'] == False) ]\n",
    "\n",
    "    # Contar cuántas revisiones tiene cada juego\n",
    "    recomendaciones = positivos['item_id'].value_counts().reset_index()\n",
    "    recomendaciones.columns = ['item_id', 'count']\n",
    "\n",
    "    # Fusionar 'recomendaciones' con 'df_ur' para obtener los nombres\n",
    "    recomendaciones = pd.merge(recomendaciones, df_ur[['item_id', 'item_name']], on='item_id', how='left')\n",
    "    # Realizo el merge de ambos DataFrames borro duplicados\n",
    "    recomendaciones=recomendaciones.drop_duplicates()\n",
    "\n",
    "    # Ordenar los juegos en función del número de revisiones en orden descendente\n",
    "    game_recommendations = recomendaciones.sort_values(by='count', ascending=False)\n",
    "\n",
    "    # Tomar los 3 juegos más recomendados\n",
    "    top_3_games = game_recommendations.head(3)\n",
    "    #merged_df = pd.merge(top_3_games, df_ur, left_on='item_id', right_on='item_id', how='inner')\n",
    "    # Tomar los 3 juegos más recomendados\n",
    "    top_3_games = game_recommendations.head(3)\n",
    "\n",
    "    # Crear el formato de salida\n",
    "    top_3_games = [{\"Puesto \" + str(i + 1): game} for i, game in enumerate(top_3_games['item_name'])]\n",
    "    if top_3_games:\n",
    "        print(top_3_games)\n",
    "    else:\n",
    "        print(\"No hay datos para esa fecha\")\n",
    "    return"
   ]
  },
  {
   "cell_type": "code",
   "execution_count": 16,
   "metadata": {},
   "outputs": [
    {
     "name": "stdout",
     "output_type": "stream",
     "text": [
      "[{'Puesto 1': 'And Yet It Moves'}, {'Puesto 2': 'Fable III'}, {'Puesto 3': 'Counter-Strike: Source'}]\n"
     ]
    }
   ],
   "source": [
    "UsersNotRecommend(2011)"
   ]
  },
  {
   "cell_type": "code",
   "execution_count": 17,
   "metadata": {},
   "outputs": [],
   "source": [
    "def sentiment_analysis( año : int ):\n",
    "    #Según el año de lanzamiento, se devuelve una lista con la cantidad de registros de reseñas de usuarios\n",
    "    # que se encuentren categorizados con un análisis de sentimiento.\n",
    "    #Ejemplo de retorno: {Negative = 182, Neutral = 120, Positive = 278}\n",
    "    # Agrupar por año y contar las categorías de análisis de sentimiento\n",
    "    \n",
    "    sent_por_anio = df_ur.groupby('anio')['sentiment_analysis'].value_counts().unstack(fill_value=0)\n",
    "   \n",
    "    # Verificar si el año existe en el índice del DataFrame\n",
    "    if año in sent_por_anio.index:\n",
    "        # El año existe, así que puedo filtrar \n",
    "        sent_por_anio = sent_por_anio.loc[año].to_dict()\n",
    "          \n",
    "        print(f\"Negativo : {sent_por_anio[0]} , Neutral : {sent_por_anio[1]} Positivo: {sent_por_anio[2]}\")\n",
    "    else:\n",
    "        print(f\"No se encontraron datos para el año {año}.\")\n",
    "    return\n"
   ]
  },
  {
   "cell_type": "code",
   "execution_count": 18,
   "metadata": {},
   "outputs": [
    {
     "name": "stdout",
     "output_type": "stream",
     "text": [
      "Negativo : 855 , Neutral : 471 Positivo: 4265\n"
     ]
    }
   ],
   "source": [
    "sentiment_analysis( 2013)"
   ]
  }
 ],
 "metadata": {
  "kernelspec": {
   "display_name": "Python 3",
   "language": "python",
   "name": "python3"
  },
  "language_info": {
   "codemirror_mode": {
    "name": "ipython",
    "version": 3
   },
   "file_extension": ".py",
   "mimetype": "text/x-python",
   "name": "python",
   "nbconvert_exporter": "python",
   "pygments_lexer": "ipython3",
   "version": "3.10.10"
  }
 },
 "nbformat": 4,
 "nbformat_minor": 2
}
