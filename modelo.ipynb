{
 "cells": [
  {
   "cell_type": "code",
   "execution_count": 3,
   "metadata": {},
   "outputs": [],
   "source": [
    "# Este notebook contien los procedimeintos para crear el parquet asociado a la ejecucion de la funcion de \n",
    "# RECOMENDACION DE JUEGOS\n",
    "import pandas as pd\n",
    "import json"
   ]
  },
  {
   "cell_type": "code",
   "execution_count": 3,
   "metadata": {},
   "outputs": [],
   "source": [
    "def leo_lineaxlinea(arch_txt):\n",
    "    # Listas para almacenar los diccionarios y los números de línea con errores\n",
    "    data_list = []\n",
    "    lineas_con_errores = []\n",
    "\n",
    "    # Contadores para el total de líneas y registros leídos correctamente\n",
    "    total_lineas = 0\n",
    "    registros_correctos = 0\n",
    "\n",
    "    # Abrir el archivo y leerlo línea por línea\n",
    "    with open(arch_txt, 'r', encoding='utf-8') as archivo:\n",
    "        for num_linea, linea in enumerate(archivo, start=1):\n",
    "            total_lineas += 1\n",
    "            try:\n",
    "            # Intentar cargar la línea como JSON\n",
    "                data = json.loads(linea)\n",
    "                data_list.append(data)\n",
    "                registros_correctos += 1\n",
    "            except json.JSONDecodeError:\n",
    "                try:\n",
    "                    # Si falla como JSON, intentar cargarlo como diccionario\n",
    "                    data = eval(linea)  # Usa eval para interpretar la línea como un diccionario\n",
    "                    if isinstance(data, dict):\n",
    "                        data_list.append(data)\n",
    "                        registros_correctos += 1\n",
    "                    else:\n",
    "                         lineas_con_errores.append(num_linea)\n",
    "                except Exception as e:\n",
    "                    lineas_con_errores.append(num_linea)\n",
    "    # Imprimir los resultados\n",
    "    print(f'Total de líneas o registros: {total_lineas}')\n",
    "    print(f'Registros leídos correctamente: {registros_correctos}')\n",
    "    print(f'Registros mal leídos en líneas: {lineas_con_errores}')\n",
    "    \n",
    "    return data_list\n",
    "\n",
    "    "
   ]
  },
  {
   "cell_type": "code",
   "execution_count": 4,
   "metadata": {},
   "outputs": [
    {
     "name": "stdout",
     "output_type": "stream",
     "text": [
      "Total de líneas o registros: 120445\n",
      "Registros leídos correctamente: 120445\n",
      "Registros mal leídos en líneas: []\n"
     ]
    }
   ],
   "source": [
    "# Crear un DataFrame a partir de games, es mi forma mas eficiente para leer el gz\n",
    "\n",
    "lista=leo_lineaxlinea(\"..\\steam_games.txt\")\n",
    "df_games = pd.DataFrame(lista)\n"
   ]
  },
  {
   "cell_type": "code",
   "execution_count": 5,
   "metadata": {},
   "outputs": [],
   "source": [
    "#borro los que sean todos nulos xq habian muchos\n",
    "df_games.dropna(how=\"all\",inplace=True)"
   ]
  },
  {
   "cell_type": "code",
   "execution_count": 6,
   "metadata": {},
   "outputs": [],
   "source": [
    "#ordeno el df por clave id para ver si hay duplicados\n",
    "df_games = df_games.sort_values(by='id')"
   ]
  },
  {
   "cell_type": "code",
   "execution_count": 7,
   "metadata": {},
   "outputs": [],
   "source": [
    "\n",
    "df_games.reset_index(inplace=True)"
   ]
  },
  {
   "cell_type": "code",
   "execution_count": 10,
   "metadata": {},
   "outputs": [],
   "source": [
    "\n",
    "# Eliminar las filas duplicadas por \"app_name\" y aquellas en las que al menos una columna es None\n",
    "# para posterior control copio en otro dataframe\n",
    "df_games2 = df_games.dropna(subset=[\"app_name\"]).drop_duplicates(subset=\"app_name\", keep=\"first\")\n",
    "\n",
    "# Supongamos que tienes un DataFrame df_games y deseas encontrar las filas con valores iguales en la columna \"app_name\"\n",
    "filas_duplicadas = df_games2[df_games2.duplicated(subset=\"app_name\", keep=False)]\n",
    "\n",
    "# Mostrar las filas duplicadas\n",
    "filas_duplicadas\n",
    "df_games=df_games2"
   ]
  },
  {
   "cell_type": "code",
   "execution_count": null,
   "metadata": {},
   "outputs": [
    {
     "data": {
      "text/plain": [
       "0        [Action, FPS, Multiplayer, Shooter, Classic, T...\n",
       "1                           [Indie, Fighting, Multiplayer]\n",
       "2                         [Animation & Modeling, Software]\n",
       "3        [Zombies, World War II, FPS, Action, Multiplay...\n",
       "4                                   [Animation & Modeling]\n",
       "                               ...                        \n",
       "32128    [Indie, Platformer, Casual, Puzzle, Physics, A...\n",
       "32129              [Casual, Puzzle, Relaxing, Exploration]\n",
       "32130    [Free to Play, Massively Multiplayer, Adventur...\n",
       "32131    [Free to Play, Massively Multiplayer, Puzzle, ...\n",
       "32132                                  [Action, Adventure]\n",
       "Name: tags, Length: 32094, dtype: object"
      ]
     },
     "execution_count": 105,
     "metadata": {},
     "output_type": "execute_result"
    }
   ],
   "source": [
    "df_games['tags']"
   ]
  },
  {
   "cell_type": "code",
   "execution_count": 11,
   "metadata": {},
   "outputs": [],
   "source": [
    "df_games=df_games.dropna()"
   ]
  },
  {
   "cell_type": "code",
   "execution_count": 12,
   "metadata": {},
   "outputs": [],
   "source": [
    "import pandas as pd\n",
    "\n",
    "# Supongamos que df_games es tu DataFrame con una columna 'tags' que contiene listas de etiquetas\n",
    "# Vamos a crear una lista de DataFrames que representan las etiquetas desanidadas\n",
    "df_tags_list = df_games['tags'].apply(lambda x: pd.Series(x))\n"
   ]
  },
  {
   "cell_type": "code",
   "execution_count": 13,
   "metadata": {},
   "outputs": [
    {
     "data": {
      "text/plain": [
       "<Axes: >"
      ]
     },
     "execution_count": 13,
     "metadata": {},
     "output_type": "execute_result"
    },
    {
     "data": {
      "image/png": "[encoded data removed]",
      "text/plain": [
       "<Figure size 640x480 with 2 Axes>"
      ]
     },
     "metadata": {},
     "output_type": "display_data"
    }
   ],
   "source": [
    "import seaborn as sns\n",
    "sns.heatmap(df_tags_list.isnull())"
   ]
  },
  {
   "cell_type": "code",
   "execution_count": null,
   "metadata": {},
   "outputs": [],
   "source": []
  },
  {
   "cell_type": "code",
   "execution_count": 19,
   "metadata": {},
   "outputs": [],
   "source": [
    "\n",
    "# mas alla de la columna 2 hay muchos nulos\n",
    "df_tags_list=df_tags_list[[0,1,2]]\n",
    "# Renombrar las columnas con nombres significativos (puedes personalizar estos nombres)\n",
    "df_tags_list.columns = ['tag_1', 'tag_2', 'tag_3']\n",
    "\n",
    "# Concatenar los DataFrames de etiquetas desanidadas al DataFrame original\n",
    "df_games = pd.concat([df_games, df_tags_list], axis=1)\n",
    "\n",
    "# Eliminar la columna original 'tags' si ya no la necesitas\n",
    "#df_games = df_games.drop('tags', axis=1)\n"
   ]
  },
  {
   "cell_type": "code",
   "execution_count": 15,
   "metadata": {},
   "outputs": [
    {
     "data": {
      "text/plain": [
       "22505"
      ]
     },
     "execution_count": 15,
     "metadata": {},
     "output_type": "execute_result"
    }
   ],
   "source": [
    "len(df_games)\n",
    "len(df_tags_list)"
   ]
  },
  {
   "cell_type": "code",
   "execution_count": 16,
   "metadata": {},
   "outputs": [],
   "source": [
    "df_games=df_games.drop(['index', 'publisher', 'genres', 'title', 'url',\n",
    "       'release_date', 'tags', 'reviews_url', 'specs', 'price', 'early_access',\n",
    "        'developer'],axis=1)"
   ]
  },
  {
   "cell_type": "code",
   "execution_count": null,
   "metadata": {},
   "outputs": [
    {
     "data": {
      "text/plain": [
       "6146"
      ]
     },
     "execution_count": 124,
     "metadata": {},
     "output_type": "execute_result"
    }
   ],
   "source": [
    "null_count = df_games['tag_3'].isna().sum()\n",
    "null_count"
   ]
  },
  {
   "cell_type": "code",
   "execution_count": 4,
   "metadata": {},
   "outputs": [],
   "source": [
    "df_games=pd.read_parquet(\"Game_recom.parquet\")\n",
    "# Eliminar las filas con índices impares\n",
    "df_games = df_games[df_games.index % 2 == 0]\n"
   ]
  },
  {
   "cell_type": "code",
   "execution_count": 15,
   "metadata": {},
   "outputs": [
    {
     "data": {
      "text/plain": [
       "1024"
      ]
     },
     "execution_count": 15,
     "metadata": {},
     "output_type": "execute_result"
    }
   ],
   "source": [
    "df_games = df_games[df_games.index % 2 == 0]\n",
    "len(df_games)"
   ]
  },
  {
   "cell_type": "code",
   "execution_count": 16,
   "metadata": {},
   "outputs": [],
   "source": [
    "df_games=df_games.reset_index(drop=True)"
   ]
  },
  {
   "cell_type": "code",
   "execution_count": 21,
   "metadata": {},
   "outputs": [],
   "source": [
    "#borro todos los nulos\n",
    "df_games = df_games.dropna(subset=['tag_1'])\n",
    "df_games = df_games.dropna(subset=['tag_2'])\n",
    "df_games = df_games.dropna(subset=['tag_3'])"
   ]
  },
  {
   "cell_type": "code",
   "execution_count": 18,
   "metadata": {},
   "outputs": [],
   "source": [
    "df_games.to_parquet(\"Game_recom.parquet\")\n"
   ]
  },
  {
   "cell_type": "code",
   "execution_count": 22,
   "metadata": {},
   "outputs": [],
   "source": [
    "\n",
    "from sklearn.metrics.pairwise import cosine_similarity\n",
    "\n"
   ]
  },
  {
   "cell_type": "code",
   "execution_count": 6,
   "metadata": {},
   "outputs": [],
   "source": [
    "df_games=df_games.reset_index(drop=True)"
   ]
  },
  {
   "cell_type": "code",
   "execution_count": null,
   "metadata": {},
   "outputs": [],
   "source": [
    "from sklearn.feature_extraction.text import TfidfVectorizer\n",
    "from sklearn.metrics.pairwise import cosine_similarity\n",
    "\n",
    "# Combina las cuatro columnas en una columna de texto\n",
    "df_games['combined_text'] = df_games['tag_1'] + ' ' + df_games['tag_2'] + ' ' + df_games['tag_3'] \n",
    "\n",
    "# Crea una instancia del vectorizador TF-IDF\n",
    "tfidf_vectorizer = TfidfVectorizer()\n",
    "\n",
    "# Aplica el vectorizador a la columna de texto combinada\n",
    "tfidf_matrix = tfidf_vectorizer.fit_transform(df_games['combined_text'])\n",
    "\n",
    "# Calcula la similitud del coseno en función de las características TF-IDF\n",
    "similarity_matrix = cosine_similarity(tfidf_matrix)\n"
   ]
  },
  {
   "cell_type": "code",
   "execution_count": 97,
   "metadata": {},
   "outputs": [
    {
     "data": {
      "text/plain": [
       "(8191, 8191)"
      ]
     },
     "execution_count": 97,
     "metadata": {},
     "output_type": "execute_result"
    }
   ],
   "source": [
    "similarity_matrix.shape"
   ]
  },
  {
   "cell_type": "code",
   "execution_count": 8,
   "metadata": {},
   "outputs": [
    {
     "data": {
      "text/html": [
       "<div>\n",
       "<style scoped>\n",
       "    .dataframe tbody tr th:only-of-type {\n",
       "        vertical-align: middle;\n",
       "    }\n",
       "\n",
       "    .dataframe tbody tr th {\n",
       "        vertical-align: top;\n",
       "    }\n",
       "\n",
       "    .dataframe thead th {\n",
       "        text-align: right;\n",
       "    }\n",
       "</style>\n",
       "<table border=\"1\" class=\"dataframe\">\n",
       "  <thead>\n",
       "    <tr style=\"text-align: right;\">\n",
       "      <th></th>\n",
       "      <th>app_name</th>\n",
       "      <th>id</th>\n",
       "      <th>tag_1</th>\n",
       "      <th>tag_2</th>\n",
       "      <th>tag_3</th>\n",
       "      <th>combined_text</th>\n",
       "    </tr>\n",
       "  </thead>\n",
       "  <tbody>\n",
       "    <tr>\n",
       "      <th>0</th>\n",
       "      <td>Rag Doll Kung Fu</td>\n",
       "      <td>1002</td>\n",
       "      <td>Indie</td>\n",
       "      <td>Fighting</td>\n",
       "      <td>Multiplayer</td>\n",
       "      <td>Indie Fighting Multiplayer</td>\n",
       "    </tr>\n",
       "    <tr>\n",
       "      <th>1</th>\n",
       "      <td>King's Quest™ Collection</td>\n",
       "      <td>10100</td>\n",
       "      <td>Adventure</td>\n",
       "      <td>Point &amp; Click</td>\n",
       "      <td>Classic</td>\n",
       "      <td>Adventure Point &amp; Click Classic</td>\n",
       "    </tr>\n",
       "    <tr>\n",
       "      <th>2</th>\n",
       "      <td>3D Ultra™ Minigolf Adventures</td>\n",
       "      <td>10140</td>\n",
       "      <td>Sports</td>\n",
       "      <td>Mini Golf</td>\n",
       "      <td>Golf</td>\n",
       "      <td>Sports Mini Golf Golf</td>\n",
       "    </tr>\n",
       "    <tr>\n",
       "      <th>3</th>\n",
       "      <td>Postal III</td>\n",
       "      <td>10220</td>\n",
       "      <td>Action</td>\n",
       "      <td>Dark Humor</td>\n",
       "      <td>Gore</td>\n",
       "      <td>Action Dark Humor Gore</td>\n",
       "    </tr>\n",
       "    <tr>\n",
       "      <th>4</th>\n",
       "      <td>Kingdoms of Amalur: Reckoning™</td>\n",
       "      <td>102500</td>\n",
       "      <td>RPG</td>\n",
       "      <td>Fantasy</td>\n",
       "      <td>Open World</td>\n",
       "      <td>RPG Fantasy Open World</td>\n",
       "    </tr>\n",
       "    <tr>\n",
       "      <th>...</th>\n",
       "      <td>...</td>\n",
       "      <td>...</td>\n",
       "      <td>...</td>\n",
       "      <td>...</td>\n",
       "      <td>...</td>\n",
       "      <td>...</td>\n",
       "    </tr>\n",
       "    <tr>\n",
       "      <th>4091</th>\n",
       "      <td>Naval Warfare</td>\n",
       "      <td>98500</td>\n",
       "      <td>Action</td>\n",
       "      <td>Indie</td>\n",
       "      <td>Steampunk</td>\n",
       "      <td>Action Indie Steampunk</td>\n",
       "    </tr>\n",
       "    <tr>\n",
       "      <th>4092</th>\n",
       "      <td>Dungeons of Dredmor</td>\n",
       "      <td>98800</td>\n",
       "      <td>Rogue-like</td>\n",
       "      <td>Turn-Based</td>\n",
       "      <td>RPG</td>\n",
       "      <td>Rogue-like Turn-Based RPG</td>\n",
       "    </tr>\n",
       "    <tr>\n",
       "      <th>4093</th>\n",
       "      <td>Test Drive Unlimited 2</td>\n",
       "      <td>9930</td>\n",
       "      <td>Racing</td>\n",
       "      <td>Open World</td>\n",
       "      <td>Driving</td>\n",
       "      <td>Racing Open World Driving</td>\n",
       "    </tr>\n",
       "    <tr>\n",
       "      <th>4094</th>\n",
       "      <td>Garshasp: Temple of the Dragon</td>\n",
       "      <td>99410</td>\n",
       "      <td>Action</td>\n",
       "      <td>Indie</td>\n",
       "      <td>Hack and Slash</td>\n",
       "      <td>Action Indie Hack and Slash</td>\n",
       "    </tr>\n",
       "    <tr>\n",
       "      <th>4095</th>\n",
       "      <td>Puzzle Pirates</td>\n",
       "      <td>99910</td>\n",
       "      <td>Free to Play</td>\n",
       "      <td>Massively Multiplayer</td>\n",
       "      <td>Puzzle</td>\n",
       "      <td>Free to Play Massively Multiplayer Puzzle</td>\n",
       "    </tr>\n",
       "  </tbody>\n",
       "</table>\n",
       "<p>4096 rows × 6 columns</p>\n",
       "</div>"
      ],
      "text/plain": [
       "                            app_name      id         tag_1   \n",
       "0                   Rag Doll Kung Fu    1002         Indie  \\\n",
       "1           King's Quest™ Collection   10100     Adventure   \n",
       "2      3D Ultra™ Minigolf Adventures   10140        Sports   \n",
       "3                         Postal III   10220        Action   \n",
       "4     Kingdoms of Amalur: Reckoning™  102500           RPG   \n",
       "...                              ...     ...           ...   \n",
       "4091                   Naval Warfare   98500        Action   \n",
       "4092             Dungeons of Dredmor   98800    Rogue-like   \n",
       "4093          Test Drive Unlimited 2    9930        Racing   \n",
       "4094  Garshasp: Temple of the Dragon   99410        Action   \n",
       "4095                  Puzzle Pirates   99910  Free to Play   \n",
       "\n",
       "                      tag_2           tag_3   \n",
       "0                  Fighting     Multiplayer  \\\n",
       "1             Point & Click         Classic   \n",
       "2                 Mini Golf            Golf   \n",
       "3                Dark Humor            Gore   \n",
       "4                   Fantasy      Open World   \n",
       "...                     ...             ...   \n",
       "4091                  Indie       Steampunk   \n",
       "4092             Turn-Based             RPG   \n",
       "4093             Open World         Driving   \n",
       "4094                  Indie  Hack and Slash   \n",
       "4095  Massively Multiplayer          Puzzle   \n",
       "\n",
       "                                  combined_text  \n",
       "0                    Indie Fighting Multiplayer  \n",
       "1               Adventure Point & Click Classic  \n",
       "2                         Sports Mini Golf Golf  \n",
       "3                        Action Dark Humor Gore  \n",
       "4                        RPG Fantasy Open World  \n",
       "...                                         ...  \n",
       "4091                     Action Indie Steampunk  \n",
       "4092                  Rogue-like Turn-Based RPG  \n",
       "4093                  Racing Open World Driving  \n",
       "4094                Action Indie Hack and Slash  \n",
       "4095  Free to Play Massively Multiplayer Puzzle  \n",
       "\n",
       "[4096 rows x 6 columns]"
      ]
     },
     "execution_count": 8,
     "metadata": {},
     "output_type": "execute_result"
    }
   ],
   "source": [
    "df_games"
   ]
  },
  {
   "cell_type": "code",
   "execution_count": 98,
   "metadata": {},
   "outputs": [],
   "source": [
    "def get_recommendations(game_name, similarity_matrix, df):\n",
    "    # Encuentra el índice del juego en el DataFrame\n",
    "    \n",
    "    game_index = df[df['id'] == game_name]\n",
    "   \n",
    "    game_index = df[df['id'] == game_name].index[0]\n",
    "    # Obtén las puntuaciones de similitud para ese juego\n",
    "    similar_scores = list(enumerate(similarity_matrix[game_index]))\n",
    "    \n",
    "    # Ordena las puntuaciones en orden descendente\n",
    "    similar_scores = sorted(similar_scores, key=lambda x: x[1], reverse=True)\n",
    "    # Recupera los índices de los juegos similares\n",
    "    similar_game_indices = [i[0] for i in similar_scores]\n",
    "    # Devuelve los nombres de los juegos recomendados\n",
    "   \n",
    "    return df['app_name'].iloc[similar_game_indices[1:6]]\n"
   ]
  },
  {
   "cell_type": "code",
   "execution_count": 109,
   "metadata": {},
   "outputs": [
    {
     "data": {
      "text/plain": [
       "8189                     The UnderGarden\n",
       "2345                       Quell Reflect\n",
       "3211    Mondrian - Abstraction in Beauty\n",
       "4250                Catch a Falling Star\n",
       "2599                              Lumini\n",
       "Name: app_name, dtype: object"
      ]
     },
     "execution_count": 109,
     "metadata": {},
     "output_type": "execute_result"
    }
   ],
   "source": [
    "get_recommendations(\"9980\",similarity_matrix,df_games)"
   ]
  },
  {
   "cell_type": "code",
   "execution_count": 100,
   "metadata": {},
   "outputs": [],
   "source": [
    "\n",
    "# Convierte la matriz similarity_matrix en un DataFrame\n",
    "similarity_df = pd.DataFrame(similarity_matrix)\n",
    "\n",
    "# Especifica el nombre del archivo Parquet en el que deseas guardar la matriz\n",
    "parquet_filename = 'matrix.csv'\n",
    "\n",
    "# Guarda el DataFrame en formato Parquet\n",
    "similarity_df.to_csv(parquet_filename , index=False)\n"
   ]
  },
  {
   "cell_type": "code",
   "execution_count": 82,
   "metadata": {},
   "outputs": [],
   "source": [
    "import pandas as pd\n",
    "\n",
    "# Convierte la matriz similarity_matrix en un DataFrame\n",
    "similarity_df = pd.DataFrame(similarity_matrix)\n",
    "\n",
    "# Especifica el nombre del archivo CSV en el que deseas guardar la matriz\n",
    "csv_filename = 'similarity_matrix.csv'\n",
    "\n",
    "# Guarda el DataFrame en formato CSV\n",
    "similarity_df.to_csv(csv_filename, index=False)\n"
   ]
  }
 ],
 "metadata": {
  "kernelspec": {
   "display_name": "Python 3",
   "language": "python",
   "name": "python3"
  },
  "language_info": {
   "codemirror_mode": {
    "name": "ipython",
    "version": 3
   },
   "file_extension": ".py",
   "mimetype": "text/x-python",
   "name": "python",
   "nbconvert_exporter": "python",
   "pygments_lexer": "ipython3",
   "version": "3.10.10"
  }
 },
 "nbformat": 4,
 "nbformat_minor": 2
}
