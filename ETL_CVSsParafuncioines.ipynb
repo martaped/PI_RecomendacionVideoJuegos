{
 "cells": [
  {
   "cell_type": "code",
   "execution_count": 2,
   "metadata": {},
   "outputs": [],
   "source": [
    "import gzip\n",
    "import json\n",
    "import pandas as pd\n",
    "import ast\n"
   ]
  },
  {
   "cell_type": "code",
   "execution_count": 5,
   "metadata": {},
   "outputs": [],
   "source": [
    "\n",
    "def A_txt(nombre_archivo_gz,nombre_archivo_descomprimido):\n",
    "    # Nombre del archivo comprimido .gz\n",
    "\n",
    "\n",
    "    # Nombre del archivo descomprimido lo paso a txt, para luego hacer una lectura linea por linea\n",
    "    #nombre_archivo_descomprimido = 'users_items.txt'  # lo grabare como txt\n",
    "\n",
    "    with gzip.open(nombre_archivo_gz, 'rb') as archivo_comprimido, open(nombre_archivo_descomprimido, 'wb') as archivo_descomprimido:\n",
    "        contenido_comprimido = archivo_comprimido.read()\n",
    "        archivo_descomprimido.write(contenido_comprimido)\n",
    "\n",
    "# Ahora, el contenido del archivo comprimido se ha descomprimido y se ha guardado en el archivo descomprimido.\n"
   ]
  },
  {
   "cell_type": "code",
   "execution_count": 7,
   "metadata": {},
   "outputs": [],
   "source": [
    "def leo_lineaxlinea(arch_txt):\n",
    "    # Listas para almacenar los diccionarios y los números de línea con errores\n",
    "    data_list = []\n",
    "    lineas_con_errores = []\n",
    "\n",
    "    # Contadores para el total de líneas y registros leídos correctamente\n",
    "    total_lineas = 0\n",
    "    registros_correctos = 0\n",
    "\n",
    "    # Abrir el archivo y leerlo línea por línea\n",
    "    with open(arch_txt, 'r', encoding='utf-8') as archivo:\n",
    "        for num_linea, linea in enumerate(archivo, start=1):\n",
    "            total_lineas += 1\n",
    "            try:\n",
    "            # Intentar cargar la línea como JSON\n",
    "                data = json.loads(linea)\n",
    "                data_list.append(data)\n",
    "                registros_correctos += 1\n",
    "            except json.JSONDecodeError:\n",
    "                try:\n",
    "                    # Si falla como JSON, intentar cargarlo como diccionario\n",
    "                    data = eval(linea)  # Usa eval para interpretar la línea como un diccionario\n",
    "                    if isinstance(data, dict):\n",
    "                        data_list.append(data)\n",
    "                        registros_correctos += 1\n",
    "                    else:\n",
    "                         lineas_con_errores.append(num_linea)\n",
    "                except Exception as e:\n",
    "                    lineas_con_errores.append(num_linea)\n",
    "    # Imprimir los resultados\n",
    "    print(f'Total de líneas o registros: {total_lineas}')\n",
    "    print(f'Registros leídos correctamente: {registros_correctos}')\n",
    "    print(f'Registros mal leídos en líneas: {lineas_con_errores}')\n",
    "    \n",
    "    return data_list\n",
    "\n",
    "    "
   ]
  },
  {
   "cell_type": "code",
   "execution_count": 62,
   "metadata": {},
   "outputs": [
    {
     "name": "stdout",
     "output_type": "stream",
     "text": [
      "Total de líneas o registros: 120445\n",
      "Registros leídos correctamente: 120445\n",
      "Registros mal leídos en líneas: []\n"
     ]
    }
   ],
   "source": [
    "# Crear un DataFrame a partir de games\n",
    "A_txt(\"steam_games.json.gz\",\"steam_games.txt\")\n",
    "lista=leo_lineaxlinea(\"steam_games.txt\")\n",
    "df_games = pd.DataFrame(lista)\n"
   ]
  },
  {
   "cell_type": "code",
   "execution_count": 28,
   "metadata": {},
   "outputs": [],
   "source": [
    "#borro los que sean todos nulos\n",
    "df_games.dropna(how=\"all\",inplace=True)"
   ]
  },
  {
   "cell_type": "code",
   "execution_count": 34,
   "metadata": {},
   "outputs": [],
   "source": [
    "#borro url por consideralo irrelevante para el analisis de la informacion\n",
    "df_games=df_games.drop([\"url\"],axis=1)"
   ]
  },
  {
   "cell_type": "code",
   "execution_count": 38,
   "metadata": {},
   "outputs": [
    {
     "name": "stdout",
     "output_type": "stream",
     "text": [
      "Las columnas 'columna1' y 'columna2' tienen diferencias en algunas filas.\n"
     ]
    }
   ],
   "source": [
    "# evaluo si 2 columnas son iguales\n",
    "son_iguales = df_games['app_name'] == df_games['title']\n",
    "\n",
    "# Verificar si todas las filas son iguales\n",
    "if son_iguales.all():\n",
    "    print(\"Todas las filas en 'columna1' y 'columna2' son iguales.\")\n",
    "else:\n",
    "    print(\"Las columnas 'columna1' y 'columna2' tienen diferencias en algunas filas.\")\n"
   ]
  },
  {
   "cell_type": "code",
   "execution_count": 39,
   "metadata": {},
   "outputs": [
    {
     "name": "stdout",
     "output_type": "stream",
     "text": [
      "Número de filas con diferencias entre 'columna1' y 'columna2': 2605\n"
     ]
    }
   ],
   "source": [
    "diferencias = df_games['app_name'] != df_games['title']\n",
    "contador_diferencias = diferencias.sum()\n",
    "\n",
    "print(\"Número de filas con diferencias entre 'columna1' y 'columna2':\", contador_diferencias)\n"
   ]
  },
  {
   "cell_type": "code",
   "execution_count": null,
   "metadata": {},
   "outputs": [],
   "source": [
    "diferencias = df_games[df_games['app_name'] != df_games['title']]\n",
    "diferencias.head(200)\n"
   ]
  },
  {
   "cell_type": "code",
   "execution_count": 44,
   "metadata": {},
   "outputs": [],
   "source": [
    "#borro la columna title ya que es igual a app_name y cuando son distintas esta en Nan\n",
    "df_games=df_games.drop([\"title\"],axis=1)"
   ]
  },
  {
   "cell_type": "code",
   "execution_count": 46,
   "metadata": {},
   "outputs": [],
   "source": [
    "df_games=df_games.reindex()\n",
    "\n"
   ]
  },
  {
   "cell_type": "code",
   "execution_count": null,
   "metadata": {},
   "outputs": [],
   "source": [
    "df_games[df_games[\"id\"]==\"761140\"]"
   ]
  },
  {
   "cell_type": "code",
   "execution_count": 57,
   "metadata": {},
   "outputs": [],
   "source": [
    "#ordeno el df por clave id para ver si hay duplicados\n",
    "df_games = df_games.sort_values(by='app_name')\n"
   ]
  },
  {
   "cell_type": "code",
   "execution_count": 65,
   "metadata": {},
   "outputs": [],
   "source": [
    "df_games.reset_index(inplace=True)"
   ]
  },
  {
   "cell_type": "code",
   "execution_count": 54,
   "metadata": {},
   "outputs": [],
   "source": [
    "df_games.drop(32133, inplace=True)\n",
    "df_games.reset_index(inplace=True)"
   ]
  },
  {
   "cell_type": "code",
   "execution_count": 59,
   "metadata": {},
   "outputs": [],
   "source": [
    "del df_games[\"index\"]\n",
    "del df_games[\"level_0\"]"
   ]
  },
  {
   "cell_type": "code",
   "execution_count": 64,
   "metadata": {},
   "outputs": [],
   "source": [
    "# Elimino esa fila por contener muchos nan\n",
    "indices_a_eliminar = df_games[df_games[\"id\"] == \"317160\"].index\n",
    "\n",
    "# Eliminar las filas utilizando el método drop\n",
    "df_games.drop(indices_a_eliminar, inplace=True)\n"
   ]
  },
  {
   "cell_type": "code",
   "execution_count": 67,
   "metadata": {},
   "outputs": [],
   "source": [
    "df_games=df_games.drop([\"index\"],axis=1)"
   ]
  },
  {
   "cell_type": "code",
   "execution_count": 72,
   "metadata": {},
   "outputs": [],
   "source": [
    "# borro tags x considerarlo irrelevante\n",
    "df_games=df_games.drop([\"tags\"],axis=1)"
   ]
  },
  {
   "cell_type": "code",
   "execution_count": null,
   "metadata": {},
   "outputs": [],
   "source": [
    "df_games[\"genres\"]"
   ]
  },
  {
   "cell_type": "code",
   "execution_count": 82,
   "metadata": {},
   "outputs": [],
   "source": [
    "df_games[\"genres\"].fillna(\"\", inplace=True)"
   ]
  },
  {
   "cell_type": "code",
   "execution_count": 95,
   "metadata": {},
   "outputs": [
    {
     "data": {
      "text/html": [
       "<div>\n",
       "<style scoped>\n",
       "    .dataframe tbody tr th:only-of-type {\n",
       "        vertical-align: middle;\n",
       "    }\n",
       "\n",
       "    .dataframe tbody tr th {\n",
       "        vertical-align: top;\n",
       "    }\n",
       "\n",
       "    .dataframe thead th {\n",
       "        text-align: right;\n",
       "    }\n",
       "</style>\n",
       "<table border=\"1\" class=\"dataframe\">\n",
       "  <thead>\n",
       "    <tr style=\"text-align: right;\">\n",
       "      <th></th>\n",
       "      <th>publisher</th>\n",
       "      <th>genres</th>\n",
       "      <th>app_name</th>\n",
       "      <th>release_date</th>\n",
       "      <th>reviews_url</th>\n",
       "      <th>specs</th>\n",
       "      <th>price</th>\n",
       "      <th>early_access</th>\n",
       "      <th>id</th>\n",
       "      <th>developer</th>\n",
       "    </tr>\n",
       "  </thead>\n",
       "  <tbody>\n",
       "  </tbody>\n",
       "</table>\n",
       "</div>"
      ],
      "text/plain": [
       "Empty DataFrame\n",
       "Columns: [publisher, genres, app_name, release_date, reviews_url, specs, price, early_access, id, developer]\n",
       "Index: []"
      ]
     },
     "execution_count": 95,
     "metadata": {},
     "output_type": "execute_result"
    }
   ],
   "source": [
    "# Supongamos que tienes un DataFrame df_games y deseas encontrar las filas con valores iguales en la columna \"app_name\"\n",
    "filas_duplicadas = df_games2[df_games2.duplicated(subset=\"app_name\", keep=False)]\n",
    "\n",
    "# Mostrar las filas duplicadas\n",
    "filas_duplicadas"
   ]
  },
  {
   "cell_type": "code",
   "execution_count": 89,
   "metadata": {},
   "outputs": [],
   "source": [
    "\n",
    "\n",
    "# Eliminar las filas duplicadas por \"app_name\" y aquellas en las que al menos una columna es None\n",
    "# para posterior control copio en otro dataframe\n",
    "df_games2 = df_games.dropna(subset=[\"app_name\"]).drop_duplicates(subset=\"app_name\", keep=\"first\")\n"
   ]
  },
  {
   "cell_type": "code",
   "execution_count": 96,
   "metadata": {},
   "outputs": [],
   "source": [
    "df_games=df_games2"
   ]
  },
  {
   "cell_type": "code",
   "execution_count": 97,
   "metadata": {},
   "outputs": [
    {
     "data": {
      "text/html": [
       "<div>\n",
       "<style scoped>\n",
       "    .dataframe tbody tr th:only-of-type {\n",
       "        vertical-align: middle;\n",
       "    }\n",
       "\n",
       "    .dataframe tbody tr th {\n",
       "        vertical-align: top;\n",
       "    }\n",
       "\n",
       "    .dataframe thead th {\n",
       "        text-align: right;\n",
       "    }\n",
       "</style>\n",
       "<table border=\"1\" class=\"dataframe\">\n",
       "  <thead>\n",
       "    <tr style=\"text-align: right;\">\n",
       "      <th></th>\n",
       "      <th>publisher</th>\n",
       "      <th>genres</th>\n",
       "      <th>app_name</th>\n",
       "      <th>release_date</th>\n",
       "      <th>reviews_url</th>\n",
       "      <th>specs</th>\n",
       "      <th>price</th>\n",
       "      <th>early_access</th>\n",
       "      <th>id</th>\n",
       "      <th>developer</th>\n",
       "    </tr>\n",
       "  </thead>\n",
       "  <tbody>\n",
       "    <tr>\n",
       "      <th>0</th>\n",
       "      <td>WTFOMGames</td>\n",
       "      <td>[Action, Adventure, Casual, Indie]</td>\n",
       "      <td>! That Bastard Is Trying To Steal Our Gold !</td>\n",
       "      <td>2016-03-01</td>\n",
       "      <td>http://steamcommunity.com/app/449940/reviews/?...</td>\n",
       "      <td>[Single-player, Steam Trading Cards, Partial C...</td>\n",
       "      <td>3.99</td>\n",
       "      <td>False</td>\n",
       "      <td>449940</td>\n",
       "      <td>WTFOMGames</td>\n",
       "    </tr>\n",
       "    <tr>\n",
       "      <th>1</th>\n",
       "      <td>NaN</td>\n",
       "      <td></td>\n",
       "      <td>\"BUTTS: The VR Experience\"</td>\n",
       "      <td>NaN</td>\n",
       "      <td>http://steamcommunity.com/app/439260/reviews/?...</td>\n",
       "      <td>[Single-player, HTC Vive]</td>\n",
       "      <td>0.99</td>\n",
       "      <td>False</td>\n",
       "      <td>439260</td>\n",
       "      <td>NaN</td>\n",
       "    </tr>\n",
       "    <tr>\n",
       "      <th>2</th>\n",
       "      <td>NaN</td>\n",
       "      <td>[Action, Free to Play, Indie, Massively Multip...</td>\n",
       "      <td>\"Barely Attuned Magic Thingy\" Staff</td>\n",
       "      <td>2014-06-19</td>\n",
       "      <td>http://steamcommunity.com/app/308163/reviews/?...</td>\n",
       "      <td>[Multi-player, MMO, Co-op, Cross-Platform Mult...</td>\n",
       "      <td>NaN</td>\n",
       "      <td>False</td>\n",
       "      <td>308163</td>\n",
       "      <td>Wild Shadow Studios</td>\n",
       "    </tr>\n",
       "    <tr>\n",
       "      <th>3</th>\n",
       "      <td>WTFOMGames</td>\n",
       "      <td>[Casual, Indie, Sports, Strategy]</td>\n",
       "      <td>\"Glow Ball\" - The billiard puzzle game</td>\n",
       "      <td>2014-02-19</td>\n",
       "      <td>http://steamcommunity.com/app/388390/reviews/?...</td>\n",
       "      <td>[Single-player, Steam Trading Cards, Partial C...</td>\n",
       "      <td>4.99</td>\n",
       "      <td>False</td>\n",
       "      <td>388390</td>\n",
       "      <td>WTFOMGames</td>\n",
       "    </tr>\n",
       "    <tr>\n",
       "      <th>4</th>\n",
       "      <td>NaN</td>\n",
       "      <td>[Casual, Simulation]</td>\n",
       "      <td>\"Just Another Day\" - Seduce Me Otome CD</td>\n",
       "      <td>2015-08-01</td>\n",
       "      <td>http://steamcommunity.com/app/454790/reviews/?...</td>\n",
       "      <td>[Single-player, Downloadable Content]</td>\n",
       "      <td>4.99</td>\n",
       "      <td>False</td>\n",
       "      <td>454790</td>\n",
       "      <td>Michaela Laws</td>\n",
       "    </tr>\n",
       "    <tr>\n",
       "      <th>...</th>\n",
       "      <td>...</td>\n",
       "      <td>...</td>\n",
       "      <td>...</td>\n",
       "      <td>...</td>\n",
       "      <td>...</td>\n",
       "      <td>...</td>\n",
       "      <td>...</td>\n",
       "      <td>...</td>\n",
       "      <td>...</td>\n",
       "      <td>...</td>\n",
       "    </tr>\n",
       "    <tr>\n",
       "      <th>32128</th>\n",
       "      <td>NaN</td>\n",
       "      <td>[Adventure, Casual, Indie, Simulation]</td>\n",
       "      <td>（尘沙惑设定集）Lost in Secular Love - Concept Design ...</td>\n",
       "      <td>2016-10-28</td>\n",
       "      <td>http://steamcommunity.com/app/541220/reviews/?...</td>\n",
       "      <td>[Single-player, Downloadable Content, Steam Ac...</td>\n",
       "      <td>3.99</td>\n",
       "      <td>False</td>\n",
       "      <td>541220</td>\n",
       "      <td>YETU GAME</td>\n",
       "    </tr>\n",
       "    <tr>\n",
       "      <th>32129</th>\n",
       "      <td>Mindware Co.,Ltd.</td>\n",
       "      <td>[Action, Casual, Indie, Early Access]</td>\n",
       "      <td>４人打ちアクション麻雀 / ACTION MAHJONG</td>\n",
       "      <td>2017-02-24</td>\n",
       "      <td>http://steamcommunity.com/app/575810/reviews/?...</td>\n",
       "      <td>[Single-player, Multi-player, Local Multi-Play...</td>\n",
       "      <td>9.99</td>\n",
       "      <td>True</td>\n",
       "      <td>575810</td>\n",
       "      <td>Mindware Co.,Ltd.</td>\n",
       "    </tr>\n",
       "    <tr>\n",
       "      <th>32130</th>\n",
       "      <td>Fancy Fish Games</td>\n",
       "      <td>[Adventure, Indie]</td>\n",
       "      <td>＜/reality＞</td>\n",
       "      <td>2017-04-18</td>\n",
       "      <td>http://steamcommunity.com/app/562280/reviews/?...</td>\n",
       "      <td>[Single-player, Steam Achievements, Full contr...</td>\n",
       "      <td>11.99</td>\n",
       "      <td>False</td>\n",
       "      <td>562280</td>\n",
       "      <td>Fancy Fish Games</td>\n",
       "    </tr>\n",
       "    <tr>\n",
       "      <th>32131</th>\n",
       "      <td>NaN</td>\n",
       "      <td>[Adventure, Indie]</td>\n",
       "      <td>＜/reality＞ Original Soundtrack</td>\n",
       "      <td>2017-04-18</td>\n",
       "      <td>http://steamcommunity.com/app/626850/reviews/?...</td>\n",
       "      <td>[Single-player, Downloadable Content]</td>\n",
       "      <td>3.99</td>\n",
       "      <td>False</td>\n",
       "      <td>626850</td>\n",
       "      <td>Fancy Fish Games</td>\n",
       "    </tr>\n",
       "    <tr>\n",
       "      <th>32132</th>\n",
       "      <td>Jeroen Wimmers</td>\n",
       "      <td>[Casual, Indie]</td>\n",
       "      <td>🔴 Circles</td>\n",
       "      <td>2017-02-17</td>\n",
       "      <td>http://steamcommunity.com/app/460250/reviews/?...</td>\n",
       "      <td>[Single-player, Steam Achievements, Steam Cloud]</td>\n",
       "      <td>8.99</td>\n",
       "      <td>False</td>\n",
       "      <td>460250</td>\n",
       "      <td>Jeroen Wimmers</td>\n",
       "    </tr>\n",
       "  </tbody>\n",
       "</table>\n",
       "<p>32094 rows × 10 columns</p>\n",
       "</div>"
      ],
      "text/plain": [
       "               publisher                                             genres   \n",
       "0             WTFOMGames                 [Action, Adventure, Casual, Indie]  \\\n",
       "1                    NaN                                                      \n",
       "2                    NaN  [Action, Free to Play, Indie, Massively Multip...   \n",
       "3             WTFOMGames                  [Casual, Indie, Sports, Strategy]   \n",
       "4                    NaN                               [Casual, Simulation]   \n",
       "...                  ...                                                ...   \n",
       "32128                NaN             [Adventure, Casual, Indie, Simulation]   \n",
       "32129  Mindware Co.,Ltd.              [Action, Casual, Indie, Early Access]   \n",
       "32130   Fancy Fish Games                                 [Adventure, Indie]   \n",
       "32131                NaN                                 [Adventure, Indie]   \n",
       "32132     Jeroen Wimmers                                    [Casual, Indie]   \n",
       "\n",
       "                                                app_name release_date   \n",
       "0           ! That Bastard Is Trying To Steal Our Gold !   2016-03-01  \\\n",
       "1                             \"BUTTS: The VR Experience\"          NaN   \n",
       "2                    \"Barely Attuned Magic Thingy\" Staff   2014-06-19   \n",
       "3                 \"Glow Ball\" - The billiard puzzle game   2014-02-19   \n",
       "4                \"Just Another Day\" - Seduce Me Otome CD   2015-08-01   \n",
       "...                                                  ...          ...   \n",
       "32128  （尘沙惑设定集）Lost in Secular Love - Concept Design ...   2016-10-28   \n",
       "32129                       ４人打ちアクション麻雀 / ACTION MAHJONG   2017-02-24   \n",
       "32130                                         ＜/reality＞   2017-04-18   \n",
       "32131                     ＜/reality＞ Original Soundtrack   2017-04-18   \n",
       "32132                                          🔴 Circles   2017-02-17   \n",
       "\n",
       "                                             reviews_url   \n",
       "0      http://steamcommunity.com/app/449940/reviews/?...  \\\n",
       "1      http://steamcommunity.com/app/439260/reviews/?...   \n",
       "2      http://steamcommunity.com/app/308163/reviews/?...   \n",
       "3      http://steamcommunity.com/app/388390/reviews/?...   \n",
       "4      http://steamcommunity.com/app/454790/reviews/?...   \n",
       "...                                                  ...   \n",
       "32128  http://steamcommunity.com/app/541220/reviews/?...   \n",
       "32129  http://steamcommunity.com/app/575810/reviews/?...   \n",
       "32130  http://steamcommunity.com/app/562280/reviews/?...   \n",
       "32131  http://steamcommunity.com/app/626850/reviews/?...   \n",
       "32132  http://steamcommunity.com/app/460250/reviews/?...   \n",
       "\n",
       "                                                   specs  price early_access   \n",
       "0      [Single-player, Steam Trading Cards, Partial C...   3.99        False  \\\n",
       "1                              [Single-player, HTC Vive]   0.99        False   \n",
       "2      [Multi-player, MMO, Co-op, Cross-Platform Mult...    NaN        False   \n",
       "3      [Single-player, Steam Trading Cards, Partial C...   4.99        False   \n",
       "4                  [Single-player, Downloadable Content]   4.99        False   \n",
       "...                                                  ...    ...          ...   \n",
       "32128  [Single-player, Downloadable Content, Steam Ac...   3.99        False   \n",
       "32129  [Single-player, Multi-player, Local Multi-Play...   9.99         True   \n",
       "32130  [Single-player, Steam Achievements, Full contr...  11.99        False   \n",
       "32131              [Single-player, Downloadable Content]   3.99        False   \n",
       "32132   [Single-player, Steam Achievements, Steam Cloud]   8.99        False   \n",
       "\n",
       "           id            developer  \n",
       "0      449940           WTFOMGames  \n",
       "1      439260                  NaN  \n",
       "2      308163  Wild Shadow Studios  \n",
       "3      388390           WTFOMGames  \n",
       "4      454790        Michaela Laws  \n",
       "...       ...                  ...  \n",
       "32128  541220            YETU GAME  \n",
       "32129  575810    Mindware Co.,Ltd.  \n",
       "32130  562280     Fancy Fish Games  \n",
       "32131  626850     Fancy Fish Games  \n",
       "32132  460250       Jeroen Wimmers  \n",
       "\n",
       "[32094 rows x 10 columns]"
      ]
     },
     "execution_count": 97,
     "metadata": {},
     "output_type": "execute_result"
    }
   ],
   "source": [
    "df_games"
   ]
  },
  {
   "cell_type": "code",
   "execution_count": 99,
   "metadata": {},
   "outputs": [],
   "source": [
    "del df_games2"
   ]
  },
  {
   "cell_type": "code",
   "execution_count": 105,
   "metadata": {},
   "outputs": [],
   "source": [
    "# Crear una lista vacía para almacenar los elementos desanidados\n",
    "desanidado = []\n",
    "\n",
    "# Iterar a través de las filas del DataFrame\n",
    "for _, row in df_games.iterrows():\n",
    "    items = row['genres']  # Obtener la lista de diccionarios en 'genres'\n",
    "    \n",
    "    for item in items:\n",
    "        # Crear una copia del diccionario de \"genres\"\n",
    "        desanidado_item = {'genres':item}\n",
    "        \n",
    "        # Agregar otras columnas del DataFrame original\n",
    "        desanidado_item['publisher'] = row['publisher']\n",
    "        desanidado_item['app_name'] = row['app_name']\n",
    "        desanidado_item['release_date'] = row['release_date']\n",
    "        desanidado_item['reviews_url'] = row['reviews_url']\n",
    "        desanidado_item['specs'] = row['specs']\n",
    "        desanidado_item['price'] = row['price']\n",
    "        desanidado_item['early_access'] = row['early_access']\n",
    "        desanidado_item['id'] = row['id']\n",
    "        desanidado_item['developer'] = row['developer']\n",
    "        \n",
    "        # Agregar el diccionario a la lista desanidada\n",
    "        desanidado.append(desanidado_item)\n",
    "\n",
    "\n",
    "# Crear un nuevo DataFrame a partir de la lista desanidada\n",
    "df_gamesd = pd.DataFrame(desanidado)\n"
   ]
  },
  {
   "cell_type": "code",
   "execution_count": null,
   "metadata": {},
   "outputs": [],
   "source": [
    "from datetime import datetime\n",
    "import re\n",
    "# Arreglo fechas porque tenian diferentes formatos\n",
    "df_gamesd['release_date']=df_gamesd['release_date'].fillna(\"0000-00-00\")\n",
    "\n",
    "def es_formato_fecha(cadena):\n",
    "    # Define un patrón de expresión regular para el formato de fecha \"YYYY-MM-DD\".\n",
    "    patron_fecha = r'^\\d{4}-\\d{2}-\\d{2}$'\n",
    "    \n",
    "    # Intenta hacer coincidir la cadena con el patrón de fecha.\n",
    "    if re.match(patron_fecha, cadena):\n",
    "        return True\n",
    "    else:\n",
    "        return False\n",
    "\n",
    "def convertir_fecha(fecha_str):\n",
    "    \n",
    "    if es_formato_fecha(fecha_str):\n",
    "        return fecha_str\n",
    "    # Mapeo de nombres de meses\n",
    "    nombres_meses = {\n",
    "        'Jan': '01',\n",
    "        'Feb': '02',\n",
    "        'Mar': '03',\n",
    "        'Apr': '04',\n",
    "        'May': '05',\n",
    "        'Jun': '06',\n",
    "        'Jul': '07',\n",
    "        'Aug': '08',\n",
    "        'Sep': '09',\n",
    "        'Oct': '10',\n",
    "        'Nov': '11',\n",
    "        'Dec': '12'\n",
    "    }\n",
    "\n",
    "    # Dividir la fecha en mes y año\n",
    "    partes = fecha_str.split()\n",
    "    if len(partes) != 2:\n",
    "        return \"0000-00-00\"  # Devolver None si el formato no es válido\n",
    "\n",
    "    mes = nombres_meses.get(partes[0])\n",
    "    año = partes[1]\n",
    "\n",
    "    if not mes:\n",
    "        return \"0000-00-00\"   # Devolver None si el nombre del mes no es válido\n",
    "\n",
    "    # Formatear la fecha en el formato deseado (Año-Mes-Día)\n",
    "    fecha_formateada = f\"{año}-{mes}-01\"\n",
    "    \n",
    "    return fecha_formateada\n",
    "\n",
    "# Aplicar la función a la columna 'release_date' y crear una nueva columna 'fecha_formateada'\n",
    "df_gamesd['release_date'] = df_gamesd['release_date'].apply(convertir_fecha)"
   ]
  },
  {
   "cell_type": "code",
   "execution_count": 31,
   "metadata": {},
   "outputs": [],
   "source": [
    "# Escribo csv de GAMES\n",
    "df_gamesd.to_csv('games.csv', index=False) "
   ]
  },
  {
   "cell_type": "code",
   "execution_count": 32,
   "metadata": {},
   "outputs": [],
   "source": [
    "df_games=pd.read_csv('games.csv')"
   ]
  },
  {
   "cell_type": "code",
   "execution_count": null,
   "metadata": {},
   "outputs": [],
   "source": [
    "df_games.info()"
   ]
  },
  {
   "cell_type": "code",
   "execution_count": 5,
   "metadata": {},
   "outputs": [
    {
     "name": "stdout",
     "output_type": "stream",
     "text": [
      "Total de líneas o registros: 88310\n",
      "Registros leídos correctamente: 88310\n",
      "Registros mal leídos en líneas: []\n"
     ]
    }
   ],
   "source": [
    "# Crear un DataFrame a partir de user_items\n",
    "A_txt(\"users_items.json.gz\",\"users_items.txt\")\n",
    "lista=leo_lineaxlinea(\"users_items.txt\")\n",
    "df_items = pd.DataFrame(lista)"
   ]
  },
  {
   "cell_type": "code",
   "execution_count": null,
   "metadata": {},
   "outputs": [],
   "source": [
    "\n",
    "# quiero ver que tiene items\n",
    "pd.set_option('display.max_colwidth',200)\n",
    "df_items[[\"user_id\",\"items\",'playtime_forever']]"
   ]
  },
  {
   "cell_type": "code",
   "execution_count": 22,
   "metadata": {},
   "outputs": [],
   "source": [
    "# Utiliza apply y keys() para obtener las claves en la columna items\n",
    "key_columns = df_items['items'].apply(lambda x: [list(d.keys()) for d in x] if isinstance(x, list) else [])"
   ]
  },
  {
   "cell_type": "code",
   "execution_count": 60,
   "metadata": {},
   "outputs": [
    {
     "data": {
      "text/html": [
       "<div>\n",
       "<style scoped>\n",
       "    .dataframe tbody tr th:only-of-type {\n",
       "        vertical-align: middle;\n",
       "    }\n",
       "\n",
       "    .dataframe tbody tr th {\n",
       "        vertical-align: top;\n",
       "    }\n",
       "\n",
       "    .dataframe thead th {\n",
       "        text-align: right;\n",
       "    }\n",
       "</style>\n",
       "<table border=\"1\" class=\"dataframe\">\n",
       "  <thead>\n",
       "    <tr style=\"text-align: right;\">\n",
       "      <th></th>\n",
       "      <th>user_id</th>\n",
       "      <th>items_count</th>\n",
       "      <th>steam_id</th>\n",
       "      <th>user_url</th>\n",
       "      <th>items</th>\n",
       "      <th>playtime_forever</th>\n",
       "    </tr>\n",
       "  </thead>\n",
       "  <tbody>\n",
       "    <tr>\n",
       "      <th>0</th>\n",
       "      <td>76561197970982479</td>\n",
       "      <td>277</td>\n",
       "      <td>76561197970982479</td>\n",
       "      <td>http://steamcommunity.com/profiles/76561197970...</td>\n",
       "      <td>[{'item_id': '10', 'item_name': 'Counter-Strik...</td>\n",
       "      <td>[6, 0, 7, 0, 0, 0, 0, 0, 4733, 1853, 333, 75, ...</td>\n",
       "    </tr>\n",
       "    <tr>\n",
       "      <th>1</th>\n",
       "      <td>js41637</td>\n",
       "      <td>888</td>\n",
       "      <td>76561198035864385</td>\n",
       "      <td>http://steamcommunity.com/id/js41637</td>\n",
       "      <td>[{'item_id': '10', 'item_name': 'Counter-Strik...</td>\n",
       "      <td>[0, 0, 0, 220, 0, 0, 0, 62, 0, 0, 0, 0, 0, 0, ...</td>\n",
       "    </tr>\n",
       "  </tbody>\n",
       "</table>\n",
       "</div>"
      ],
      "text/plain": [
       "             user_id  items_count           steam_id   \n",
       "0  76561197970982479          277  76561197970982479  \\\n",
       "1            js41637          888  76561198035864385   \n",
       "\n",
       "                                            user_url   \n",
       "0  http://steamcommunity.com/profiles/76561197970...  \\\n",
       "1               http://steamcommunity.com/id/js41637   \n",
       "\n",
       "                                               items   \n",
       "0  [{'item_id': '10', 'item_name': 'Counter-Strik...  \\\n",
       "1  [{'item_id': '10', 'item_name': 'Counter-Strik...   \n",
       "\n",
       "                                    playtime_forever  \n",
       "0  [6, 0, 7, 0, 0, 0, 0, 0, 4733, 1853, 333, 75, ...  \n",
       "1  [0, 0, 0, 220, 0, 0, 0, 62, 0, 0, 0, 0, 0, 0, ...  "
      ]
     },
     "execution_count": 60,
     "metadata": {},
     "output_type": "execute_result"
    }
   ],
   "source": [
    "df_items.head(2)"
   ]
  },
  {
   "cell_type": "code",
   "execution_count": 9,
   "metadata": {},
   "outputs": [],
   "source": [
    "#Desanidar items\n",
    "\n",
    "# Crear una lista vacía para almacenar los elementos desanidados\n",
    "desanidado = []\n",
    "\n",
    "# Iterar a través de las filas del DataFrame\n",
    "for _, row in df_items.iterrows():\n",
    "    items = row['items']  # Obtener la lista de diccionarios en 'items'\n",
    "    for item in items:\n",
    "        desanidado_item = item.copy()  # Crear una copia del diccionario\n",
    "        desanidado_item['user_id'] = row['user_id']  # Agregar 'user_id' al diccionario\n",
    "        #desanidado_item['items_count'] = row['items_count']  # Agregar 'user_id' al diccionario\n",
    "        #desanidado_item['user_url'] = row['user_url']  # Agregar 'user_url al diccionario\n",
    "        desanidado.append(desanidado_item)\n",
    "\n",
    "# Crear un nuevo DataFrame a partir de la lista desanidada\n",
    "df_items_desanidado = pd.DataFrame(desanidado)\n"
   ]
  },
  {
   "cell_type": "code",
   "execution_count": 10,
   "metadata": {},
   "outputs": [
    {
     "data": {
      "text/html": [
       "<div>\n",
       "<style scoped>\n",
       "    .dataframe tbody tr th:only-of-type {\n",
       "        vertical-align: middle;\n",
       "    }\n",
       "\n",
       "    .dataframe tbody tr th {\n",
       "        vertical-align: top;\n",
       "    }\n",
       "\n",
       "    .dataframe thead th {\n",
       "        text-align: right;\n",
       "    }\n",
       "</style>\n",
       "<table border=\"1\" class=\"dataframe\">\n",
       "  <thead>\n",
       "    <tr style=\"text-align: right;\">\n",
       "      <th></th>\n",
       "      <th>item_id</th>\n",
       "      <th>item_name</th>\n",
       "      <th>playtime_forever</th>\n",
       "      <th>playtime_2weeks</th>\n",
       "      <th>user_id</th>\n",
       "    </tr>\n",
       "  </thead>\n",
       "  <tbody>\n",
       "    <tr>\n",
       "      <th>0</th>\n",
       "      <td>10</td>\n",
       "      <td>Counter-Strike</td>\n",
       "      <td>6</td>\n",
       "      <td>0</td>\n",
       "      <td>76561197970982479</td>\n",
       "    </tr>\n",
       "    <tr>\n",
       "      <th>1</th>\n",
       "      <td>20</td>\n",
       "      <td>Team Fortress Classic</td>\n",
       "      <td>0</td>\n",
       "      <td>0</td>\n",
       "      <td>76561197970982479</td>\n",
       "    </tr>\n",
       "    <tr>\n",
       "      <th>2</th>\n",
       "      <td>30</td>\n",
       "      <td>Day of Defeat</td>\n",
       "      <td>7</td>\n",
       "      <td>0</td>\n",
       "      <td>76561197970982479</td>\n",
       "    </tr>\n",
       "    <tr>\n",
       "      <th>3</th>\n",
       "      <td>40</td>\n",
       "      <td>Deathmatch Classic</td>\n",
       "      <td>0</td>\n",
       "      <td>0</td>\n",
       "      <td>76561197970982479</td>\n",
       "    </tr>\n",
       "    <tr>\n",
       "      <th>4</th>\n",
       "      <td>50</td>\n",
       "      <td>Half-Life: Opposing Force</td>\n",
       "      <td>0</td>\n",
       "      <td>0</td>\n",
       "      <td>76561197970982479</td>\n",
       "    </tr>\n",
       "  </tbody>\n",
       "</table>\n",
       "</div>"
      ],
      "text/plain": [
       "  item_id                  item_name  playtime_forever  playtime_2weeks   \n",
       "0      10             Counter-Strike                 6                0  \\\n",
       "1      20      Team Fortress Classic                 0                0   \n",
       "2      30              Day of Defeat                 7                0   \n",
       "3      40         Deathmatch Classic                 0                0   \n",
       "4      50  Half-Life: Opposing Force                 0                0   \n",
       "\n",
       "             user_id  \n",
       "0  76561197970982479  \n",
       "1  76561197970982479  \n",
       "2  76561197970982479  \n",
       "3  76561197970982479  \n",
       "4  76561197970982479  "
      ]
     },
     "execution_count": 10,
     "metadata": {},
     "output_type": "execute_result"
    }
   ],
   "source": [
    "df_items_desanidado.head()"
   ]
  },
  {
   "cell_type": "code",
   "execution_count": 13,
   "metadata": {},
   "outputs": [
    {
     "data": {
      "image/png": "[encoded data removed]",
      "text/plain": [
       "<Figure size 800x600 with 1 Axes>"
      ]
     },
     "metadata": {},
     "output_type": "display_data"
    }
   ],
   "source": [
    "import matplotlib.pyplot as plt\n",
    "\n",
    "# Visualizar los outliers en \"playtime_forever\"\n",
    "columna = 'playtime_forever'\n",
    "\n",
    "# Crear un diagrama de caja para identificar outliers\n",
    "plt.figure(figsize=(8, 6))\n",
    "df_items_desanidado.boxplot(column=columna)\n",
    "plt.title('Diagrama de Caja para Outliers en ' + columna)\n",
    "plt.show()\n"
   ]
  },
  {
   "cell_type": "code",
   "execution_count": 20,
   "metadata": {},
   "outputs": [
    {
     "data": {
      "text/html": [
       "<div>\n",
       "<style scoped>\n",
       "    .dataframe tbody tr th:only-of-type {\n",
       "        vertical-align: middle;\n",
       "    }\n",
       "\n",
       "    .dataframe tbody tr th {\n",
       "        vertical-align: top;\n",
       "    }\n",
       "\n",
       "    .dataframe thead th {\n",
       "        text-align: right;\n",
       "    }\n",
       "</style>\n",
       "<table border=\"1\" class=\"dataframe\">\n",
       "  <thead>\n",
       "    <tr style=\"text-align: right;\">\n",
       "      <th></th>\n",
       "      <th>item_id</th>\n",
       "      <th>item_name</th>\n",
       "      <th>playtime_forever</th>\n",
       "      <th>playtime_2weeks</th>\n",
       "      <th>user_id</th>\n",
       "    </tr>\n",
       "  </thead>\n",
       "  <tbody>\n",
       "    <tr>\n",
       "      <th>9010</th>\n",
       "      <td>4000</td>\n",
       "      <td>Garry's Mod</td>\n",
       "      <td>303466</td>\n",
       "      <td>8117</td>\n",
       "      <td>76561198078738103</td>\n",
       "    </tr>\n",
       "    <tr>\n",
       "      <th>29909</th>\n",
       "      <td>313740</td>\n",
       "      <td>Sakura Spirit</td>\n",
       "      <td>400827</td>\n",
       "      <td>9055</td>\n",
       "      <td>Forty-Nine</td>\n",
       "    </tr>\n",
       "    <tr>\n",
       "      <th>190851</th>\n",
       "      <td>1250</td>\n",
       "      <td>Killing Floor</td>\n",
       "      <td>366892</td>\n",
       "      <td>112</td>\n",
       "      <td>76561197961702279</td>\n",
       "    </tr>\n",
       "    <tr>\n",
       "      <th>231613</th>\n",
       "      <td>4000</td>\n",
       "      <td>Garry's Mod</td>\n",
       "      <td>428012</td>\n",
       "      <td>6021</td>\n",
       "      <td>Jaxon1049</td>\n",
       "    </tr>\n",
       "    <tr>\n",
       "      <th>234571</th>\n",
       "      <td>363970</td>\n",
       "      <td>Clicker Heroes</td>\n",
       "      <td>333482</td>\n",
       "      <td>8077</td>\n",
       "      <td>idonothack</td>\n",
       "    </tr>\n",
       "    <tr>\n",
       "      <th>...</th>\n",
       "      <td>...</td>\n",
       "      <td>...</td>\n",
       "      <td>...</td>\n",
       "      <td>...</td>\n",
       "      <td>...</td>\n",
       "    </tr>\n",
       "    <tr>\n",
       "      <th>4075729</th>\n",
       "      <td>42710</td>\n",
       "      <td>Call of Duty: Black Ops - Multiplayer</td>\n",
       "      <td>632452</td>\n",
       "      <td>8126</td>\n",
       "      <td>76561198019826668</td>\n",
       "    </tr>\n",
       "    <tr>\n",
       "      <th>4254471</th>\n",
       "      <td>4000</td>\n",
       "      <td>Garry's Mod</td>\n",
       "      <td>324449</td>\n",
       "      <td>0</td>\n",
       "      <td>DarrenDingo</td>\n",
       "    </tr>\n",
       "    <tr>\n",
       "      <th>4492979</th>\n",
       "      <td>268420</td>\n",
       "      <td>Aura Kingdom</td>\n",
       "      <td>337453</td>\n",
       "      <td>0</td>\n",
       "      <td>76561198054840158</td>\n",
       "    </tr>\n",
       "    <tr>\n",
       "      <th>4498897</th>\n",
       "      <td>4000</td>\n",
       "      <td>Garry's Mod</td>\n",
       "      <td>344931</td>\n",
       "      <td>0</td>\n",
       "      <td>76561198055326819</td>\n",
       "    </tr>\n",
       "    <tr>\n",
       "      <th>4731722</th>\n",
       "      <td>113400</td>\n",
       "      <td>APB Reloaded</td>\n",
       "      <td>324481</td>\n",
       "      <td>0</td>\n",
       "      <td>76561198069163682</td>\n",
       "    </tr>\n",
       "  </tbody>\n",
       "</table>\n",
       "<p>63 rows × 5 columns</p>\n",
       "</div>"
      ],
      "text/plain": [
       "        item_id                              item_name  playtime_forever   \n",
       "9010       4000                            Garry's Mod            303466  \\\n",
       "29909    313740                          Sakura Spirit            400827   \n",
       "190851     1250                          Killing Floor            366892   \n",
       "231613     4000                            Garry's Mod            428012   \n",
       "234571   363970                         Clicker Heroes            333482   \n",
       "...         ...                                    ...               ...   \n",
       "4075729   42710  Call of Duty: Black Ops - Multiplayer            632452   \n",
       "4254471    4000                            Garry's Mod            324449   \n",
       "4492979  268420                           Aura Kingdom            337453   \n",
       "4498897    4000                            Garry's Mod            344931   \n",
       "4731722  113400                           APB Reloaded            324481   \n",
       "\n",
       "         playtime_2weeks            user_id  \n",
       "9010                8117  76561198078738103  \n",
       "29909               9055         Forty-Nine  \n",
       "190851               112  76561197961702279  \n",
       "231613              6021          Jaxon1049  \n",
       "234571              8077         idonothack  \n",
       "...                  ...                ...  \n",
       "4075729             8126  76561198019826668  \n",
       "4254471                0        DarrenDingo  \n",
       "4492979                0  76561198054840158  \n",
       "4498897                0  76561198055326819  \n",
       "4731722                0  76561198069163682  \n",
       "\n",
       "[63 rows x 5 columns]"
      ]
     },
     "execution_count": 20,
     "metadata": {},
     "output_type": "execute_result"
    }
   ],
   "source": [
    "#borro los registros con forever mayor a 350000 son 243 dias de juego total por año\n",
    "subset=df_items_desanidado[df_items_desanidado[\"playtime_forever\"]>300000]\n",
    "\n",
    "subset"
   ]
  },
  {
   "cell_type": "code",
   "execution_count": null,
   "metadata": {},
   "outputs": [],
   "source": [
    "df_items_desanidado.info()"
   ]
  },
  {
   "cell_type": "code",
   "execution_count": null,
   "metadata": {},
   "outputs": [],
   "source": [
    "df_items_desanidado= df_items_desanidado.sort_values(by='item_id')\n",
    "# Ordenar de forma ascendente\n",
    "df_items_desanidado"
   ]
  },
  {
   "cell_type": "code",
   "execution_count": null,
   "metadata": {},
   "outputs": [],
   "source": [
    "subset=df_items_desanidado[df_items_desanidado[\"user_id\"]== \"henryle\"]\n",
    "subset"
   ]
  },
  {
   "cell_type": "code",
   "execution_count": 21,
   "metadata": {},
   "outputs": [],
   "source": [
    "df_items_desanidado.dropna(how=\"all\",inplace=True)"
   ]
  },
  {
   "cell_type": "code",
   "execution_count": 24,
   "metadata": {},
   "outputs": [],
   "source": [
    "# Escribo csv\n",
    "df_items_desanidado.to_csv('df_items1.csv', index=False)  # El argumento index=False evita que se escriba el índice en el archivo"
   ]
  },
  {
   "cell_type": "code",
   "execution_count": 88,
   "metadata": {},
   "outputs": [],
   "source": [
    "pd.set_option('display.max_colwidth', 50)"
   ]
  },
  {
   "cell_type": "code",
   "execution_count": 9,
   "metadata": {},
   "outputs": [],
   "source": [
    "# desanidar el campo que necesito\n",
    "\n",
    "# Utilizo apply para extraer la clave 'review' en cada fila y creo una columna review\n",
    "df_items['playtime_forever'] = df_items['items'].apply(lambda x: [item['playtime_forever'] for item in x])\n",
    " \n"
   ]
  },
  {
   "cell_type": "code",
   "execution_count": null,
   "metadata": {},
   "outputs": [],
   "source": [
    "df_items['playtime_forever']"
   ]
  },
  {
   "cell_type": "code",
   "execution_count": 8,
   "metadata": {},
   "outputs": [
    {
     "name": "stdout",
     "output_type": "stream",
     "text": [
      "Total de líneas o registros: 25799\n",
      "Registros leídos correctamente: 25799\n",
      "Registros mal leídos en líneas: []\n"
     ]
    }
   ],
   "source": [
    "# Crear un DataFrame a partir de user_reviews\n",
    "A_txt(\"user_reviews.json.gz\",\"user_review.txt\")\n",
    "lista=leo_lineaxlinea(\"user_review.txt\")\n",
    "df_ur = pd.DataFrame(lista)\n"
   ]
  },
  {
   "cell_type": "code",
   "execution_count": 23,
   "metadata": {},
   "outputs": [
    {
     "data": {
      "text/html": [
       "<div>\n",
       "<style scoped>\n",
       "    .dataframe tbody tr th:only-of-type {\n",
       "        vertical-align: middle;\n",
       "    }\n",
       "\n",
       "    .dataframe tbody tr th {\n",
       "        vertical-align: top;\n",
       "    }\n",
       "\n",
       "    .dataframe thead th {\n",
       "        text-align: right;\n",
       "    }\n",
       "</style>\n",
       "<table border=\"1\" class=\"dataframe\">\n",
       "  <thead>\n",
       "    <tr style=\"text-align: right;\">\n",
       "      <th></th>\n",
       "      <th>user_id</th>\n",
       "      <th>user_url</th>\n",
       "      <th>reviews</th>\n",
       "    </tr>\n",
       "  </thead>\n",
       "  <tbody>\n",
       "    <tr>\n",
       "      <th>0</th>\n",
       "      <td>76561197970982479</td>\n",
       "      <td>http://steamcommunity.com/profiles/76561197970...</td>\n",
       "      <td>[{'funny': '', 'posted': 'Posted November 5, 2...</td>\n",
       "    </tr>\n",
       "    <tr>\n",
       "      <th>1</th>\n",
       "      <td>js41637</td>\n",
       "      <td>http://steamcommunity.com/id/js41637</td>\n",
       "      <td>[{'funny': '', 'posted': 'Posted June 24, 2014...</td>\n",
       "    </tr>\n",
       "  </tbody>\n",
       "</table>\n",
       "</div>"
      ],
      "text/plain": [
       "             user_id                                           user_url   \n",
       "0  76561197970982479  http://steamcommunity.com/profiles/76561197970...  \\\n",
       "1            js41637               http://steamcommunity.com/id/js41637   \n",
       "\n",
       "                                             reviews  \n",
       "0  [{'funny': '', 'posted': 'Posted November 5, 2...  \n",
       "1  [{'funny': '', 'posted': 'Posted June 24, 2014...  "
      ]
     },
     "execution_count": 23,
     "metadata": {},
     "output_type": "execute_result"
    }
   ],
   "source": [
    "df_ur.head(2)"
   ]
  },
  {
   "cell_type": "code",
   "execution_count": 9,
   "metadata": {},
   "outputs": [
    {
     "data": {
      "text/html": [
       "<div>\n",
       "<style scoped>\n",
       "    .dataframe tbody tr th:only-of-type {\n",
       "        vertical-align: middle;\n",
       "    }\n",
       "\n",
       "    .dataframe tbody tr th {\n",
       "        vertical-align: top;\n",
       "    }\n",
       "\n",
       "    .dataframe thead th {\n",
       "        text-align: right;\n",
       "    }\n",
       "</style>\n",
       "<table border=\"1\" class=\"dataframe\">\n",
       "  <thead>\n",
       "    <tr style=\"text-align: right;\">\n",
       "      <th></th>\n",
       "      <th>user_id</th>\n",
       "      <th>user_url</th>\n",
       "      <th>reviews</th>\n",
       "      <th>review</th>\n",
       "      <th>recommend</th>\n",
       "      <th>item_id</th>\n",
       "      <th>posted</th>\n",
       "    </tr>\n",
       "  </thead>\n",
       "  <tbody>\n",
       "    <tr>\n",
       "      <th>0</th>\n",
       "      <td>76561197970982479</td>\n",
       "      <td>http://steamcommunity.com/profiles/76561197970...</td>\n",
       "      <td>[{'funny': '', 'posted': 'Posted November 5, 2...</td>\n",
       "      <td>[Simple yet with great replayability. In my op...</td>\n",
       "      <td>[True, True, True]</td>\n",
       "      <td>[1250, 22200, 43110]</td>\n",
       "      <td>[Posted November 5, 2011., Posted July 15, 201...</td>\n",
       "    </tr>\n",
       "    <tr>\n",
       "      <th>1</th>\n",
       "      <td>js41637</td>\n",
       "      <td>http://steamcommunity.com/id/js41637</td>\n",
       "      <td>[{'funny': '', 'posted': 'Posted June 24, 2014...</td>\n",
       "      <td>[I know what you think when you see this title...</td>\n",
       "      <td>[True, True, True]</td>\n",
       "      <td>[251610, 227300, 239030]</td>\n",
       "      <td>[Posted June 24, 2014., Posted September 8, 20...</td>\n",
       "    </tr>\n",
       "  </tbody>\n",
       "</table>\n",
       "</div>"
      ],
      "text/plain": [
       "             user_id                                           user_url   \n",
       "0  76561197970982479  http://steamcommunity.com/profiles/76561197970...  \\\n",
       "1            js41637               http://steamcommunity.com/id/js41637   \n",
       "\n",
       "                                             reviews   \n",
       "0  [{'funny': '', 'posted': 'Posted November 5, 2...  \\\n",
       "1  [{'funny': '', 'posted': 'Posted June 24, 2014...   \n",
       "\n",
       "                                              review           recommend   \n",
       "0  [Simple yet with great replayability. In my op...  [True, True, True]  \\\n",
       "1  [I know what you think when you see this title...  [True, True, True]   \n",
       "\n",
       "                    item_id                                             posted  \n",
       "0      [1250, 22200, 43110]  [Posted November 5, 2011., Posted July 15, 201...  \n",
       "1  [251610, 227300, 239030]  [Posted June 24, 2014., Posted September 8, 20...  "
      ]
     },
     "execution_count": 9,
     "metadata": {},
     "output_type": "execute_result"
    }
   ],
   "source": [
    "# EXTRAIGO SOLO LAS QUE NECESITO  DEL USER_REVIWS\n",
    "\n",
    "# Utilizo apply para extraer las claves que necesito\n",
    "df_ur['review'] = df_ur['reviews'].apply(lambda x: [item['review'] for item in x])\n",
    "\n",
    "df_ur['recommend'] = df_ur['reviews'].apply(lambda x: [item['recommend'] for item in x])\n",
    "df_ur['item_id'] = df_ur['reviews'].apply(lambda x: [item['item_id'] for item in x])\n",
    "df_ur['posted'] = df_ur['reviews'].apply(lambda x: [item['posted'] for item in x])\n",
    "# Elimina la columna original 'reviews' si ya no la necesitas\n",
    "#df_ur = df_ur.drop('reviews', axis=1)\n",
    "\n",
    "# Imprime el DataFrame resultante\n",
    "df_ur.head(2)\n"
   ]
  },
  {
   "cell_type": "code",
   "execution_count": null,
   "metadata": {},
   "outputs": [],
   "source": [
    "df_ur['posted'].head(20)\n"
   ]
  },
  {
   "cell_type": "code",
   "execution_count": null,
   "metadata": {},
   "outputs": [],
   "source": [
    "pd.set_option('display.max_colwidth', 500)\n",
    "# nada mas para mirar\n",
    "df_ur[[\"review\"]\t]\n"
   ]
  },
  {
   "cell_type": "code",
   "execution_count": null,
   "metadata": {},
   "outputs": [],
   "source": [
    "# creo la columna 'sentiment_analysis' aplicando análisis de sentimiento con NLP\n",
    "# con la siguiente escala: debe tomar el valor '0' si es malo, '1' si es neutral y '2' si es positivo. \n",
    "# Esta nueva columna debe reemplazar la de user_reviews.review para facilitar el trabajo de los modelos \n",
    "# de machine learning y el análisis de datos. \n",
    "# De no ser posible este análisis por estar ausente la reseña escrita, debe tomar el valor de 1.\n",
    "\n",
    "\n",
    "from textblob import TextBlob\n",
    "\n",
    "\n",
    "# Función para realizar el análisis de sentimiento y mapear a la escala deseada\n",
    "def analizo_sentimiento(text):\n",
    "    if not isinstance(text, str):\n",
    "        text = str(text)  # Convierte la entrada a una cadena de texto\n",
    "\n",
    "    if not text:\n",
    "        return 1  # Neutral si no hay reseña\n",
    "    analysis = TextBlob(text)\n",
    "    sentiment_score = analysis.sentiment.polarity\n",
    "\n",
    "    if sentiment_score < 0:\n",
    "        return 0  # Malo si el sentimiento es negativo\n",
    "    elif sentiment_score > 0:\n",
    "        return 2  # Positivo si el sentimiento es positivo\n",
    "    else:\n",
    "        return 1  # Neutral si el sentimiento es neutral\n",
    "\n",
    "# Aplicar el análisis de sentimiento y crear la nueva columna\n",
    "df_ur['sentiment_analysis'] = df_ur['review'].apply(analizo_sentimiento)\n",
    "\n",
    "# Imprimir el DataFrame resultante\n",
    "df_ur\n"
   ]
  },
  {
   "cell_type": "code",
   "execution_count": 34,
   "metadata": {},
   "outputs": [
    {
     "data": {
      "text/plain": [
       "list"
      ]
     },
     "execution_count": 34,
     "metadata": {},
     "output_type": "execute_result"
    }
   ],
   "source": [
    "type(df_ur['item_id'][0])"
   ]
  },
  {
   "cell_type": "code",
   "execution_count": null,
   "metadata": {},
   "outputs": [],
   "source": [
    "# DESANIDO ITEMS\n",
    "import re\n",
    "\n",
    "# Cadena que contiene las fechas\n",
    "cadena = \"Posted November 5, 2011., Posted July 15, 2011., Posted April 21, 2011.\"\n",
    "\n",
    "# Crear una lista para almacenar los elementos desanidados\n",
    "desanidado = []\n",
    "\n",
    "# Iterar a través de las filas del DataFrame\n",
    "for _, row in df_ur.iterrows():\n",
    "    item_id = row['item_id'] # le saco los corchetes\n",
    "    \n",
    "    #le saco primer y ultimo caracter\n",
    "    recommend = row['recommend']#le saco primer y ultimo caracter\n",
    "    anio=row['posted']\n",
    "      \n",
    "    \n",
    "    for item1, item2,item3 in zip(item_id, recommend,anio):\n",
    "                \n",
    "        # Usar una expresión regular para encontrar los años en la cadena\n",
    "        item3=re.findall(r'\\d{4}', item3)\n",
    "        print(item3)\n",
    "        if item3:\n",
    "            item3= int(item3[0])\n",
    "        else: item3=0 \n",
    "        \n",
    "        desanidado_item = {'item_id': item1, 'recommend': item2, 'anio':item3}\n",
    "        # Agregar otras columnas del DataFrame original\n",
    "        desanidado_item['user_id'] = row['user_id']\n",
    "        desanidado_item['sentiment_analysis'] = row['sentiment_analysis']\n",
    "        desanidado.append(desanidado_item)\n",
    "\n",
    "# Crear un DataFrame a partir de la lista desanidada\n",
    "df_urd = pd.DataFrame(desanidado)\n"
   ]
  },
  {
   "cell_type": "code",
   "execution_count": 66,
   "metadata": {},
   "outputs": [
    {
     "data": {
      "text/html": [
       "<div>\n",
       "<style scoped>\n",
       "    .dataframe tbody tr th:only-of-type {\n",
       "        vertical-align: middle;\n",
       "    }\n",
       "\n",
       "    .dataframe tbody tr th {\n",
       "        vertical-align: top;\n",
       "    }\n",
       "\n",
       "    .dataframe thead th {\n",
       "        text-align: right;\n",
       "    }\n",
       "</style>\n",
       "<table border=\"1\" class=\"dataframe\">\n",
       "  <thead>\n",
       "    <tr style=\"text-align: right;\">\n",
       "      <th></th>\n",
       "      <th>item_id</th>\n",
       "      <th>recommend</th>\n",
       "      <th>anio</th>\n",
       "      <th>user_id</th>\n",
       "      <th>sentiment_analysis</th>\n",
       "    </tr>\n",
       "  </thead>\n",
       "  <tbody>\n",
       "    <tr>\n",
       "      <th>0</th>\n",
       "      <td>1250</td>\n",
       "      <td>True</td>\n",
       "      <td>2011</td>\n",
       "      <td>76561197970982479</td>\n",
       "      <td>2</td>\n",
       "    </tr>\n",
       "    <tr>\n",
       "      <th>1</th>\n",
       "      <td>22200</td>\n",
       "      <td>True</td>\n",
       "      <td>2011</td>\n",
       "      <td>76561197970982479</td>\n",
       "      <td>2</td>\n",
       "    </tr>\n",
       "  </tbody>\n",
       "</table>\n",
       "</div>"
      ],
      "text/plain": [
       "   item_id  recommend  anio            user_id  sentiment_analysis\n",
       "0     1250       True  2011  76561197970982479                   2\n",
       "1    22200       True  2011  76561197970982479                   2"
      ]
     },
     "execution_count": 66,
     "metadata": {},
     "output_type": "execute_result"
    }
   ],
   "source": [
    "df_ur.head(2)"
   ]
  },
  {
   "cell_type": "code",
   "execution_count": 11,
   "metadata": {},
   "outputs": [],
   "source": [
    "# Escribo csv\n",
    "df_urd.to_csv('user_review.csv', index=False)  # El argumento index=False evita que se escriba el índice en el archivo\n"
   ]
  },
  {
   "cell_type": "code",
   "execution_count": 5,
   "metadata": {},
   "outputs": [],
   "source": [
    "import pandas as pd\n",
    "#PREPARO DATOS PARA FUNCION 1 Y 2\n",
    "df_games=pd.read_csv(\"games.csv\")\n"
   ]
  },
  {
   "cell_type": "code",
   "execution_count": 6,
   "metadata": {},
   "outputs": [],
   "source": [
    "import numpy as np\n",
    "\n",
    "# Elimina filas con valores no finitos\n",
    "df_games = df_games.dropna(subset=['id'])\n",
    "df = df_games[~df_games['id'].isin([np.inf, -np.inf])]\n",
    "# Convertir la columna \"id\" a tipo de dato int porque esta florante para q no ocupe espacio\n",
    "df_games['id'] = df_games['id'].astype(int)"
   ]
  },
  {
   "cell_type": "code",
   "execution_count": null,
   "metadata": {},
   "outputs": [],
   "source": [
    "df_games.head()"
   ]
  },
  {
   "cell_type": "code",
   "execution_count": 7,
   "metadata": {},
   "outputs": [
    {
     "data": {
      "text/html": [
       "<div>\n",
       "<style scoped>\n",
       "    .dataframe tbody tr th:only-of-type {\n",
       "        vertical-align: middle;\n",
       "    }\n",
       "\n",
       "    .dataframe tbody tr th {\n",
       "        vertical-align: top;\n",
       "    }\n",
       "\n",
       "    .dataframe thead th {\n",
       "        text-align: right;\n",
       "    }\n",
       "</style>\n",
       "<table border=\"1\" class=\"dataframe\">\n",
       "  <thead>\n",
       "    <tr style=\"text-align: right;\">\n",
       "      <th></th>\n",
       "      <th>item_id</th>\n",
       "      <th>item_name</th>\n",
       "      <th>playtime_forever</th>\n",
       "      <th>playtime_2weeks</th>\n",
       "      <th>user_id</th>\n",
       "    </tr>\n",
       "  </thead>\n",
       "  <tbody>\n",
       "    <tr>\n",
       "      <th>0</th>\n",
       "      <td>10</td>\n",
       "      <td>Counter-Strike</td>\n",
       "      <td>6</td>\n",
       "      <td>0</td>\n",
       "      <td>76561197970982479</td>\n",
       "    </tr>\n",
       "    <tr>\n",
       "      <th>1</th>\n",
       "      <td>10</td>\n",
       "      <td>Counter-Strike</td>\n",
       "      <td>18</td>\n",
       "      <td>0</td>\n",
       "      <td>Gutzen</td>\n",
       "    </tr>\n",
       "    <tr>\n",
       "      <th>2</th>\n",
       "      <td>10</td>\n",
       "      <td>Counter-Strike</td>\n",
       "      <td>1</td>\n",
       "      <td>0</td>\n",
       "      <td>76561198092430936</td>\n",
       "    </tr>\n",
       "    <tr>\n",
       "      <th>3</th>\n",
       "      <td>10</td>\n",
       "      <td>Counter-Strike</td>\n",
       "      <td>5959</td>\n",
       "      <td>93</td>\n",
       "      <td>henryle</td>\n",
       "    </tr>\n",
       "    <tr>\n",
       "      <th>4</th>\n",
       "      <td>10</td>\n",
       "      <td>Counter-Strike</td>\n",
       "      <td>0</td>\n",
       "      <td>0</td>\n",
       "      <td>DeadPowerGamer</td>\n",
       "    </tr>\n",
       "  </tbody>\n",
       "</table>\n",
       "</div>"
      ],
      "text/plain": [
       "   item_id       item_name  playtime_forever  playtime_2weeks   \n",
       "0       10  Counter-Strike                 6                0  \\\n",
       "1       10  Counter-Strike                18                0   \n",
       "2       10  Counter-Strike                 1                0   \n",
       "3       10  Counter-Strike              5959               93   \n",
       "4       10  Counter-Strike                 0                0   \n",
       "\n",
       "             user_id  \n",
       "0  76561197970982479  \n",
       "1             Gutzen  \n",
       "2  76561198092430936  \n",
       "3            henryle  \n",
       "4     DeadPowerGamer  "
      ]
     },
     "execution_count": 7,
     "metadata": {},
     "output_type": "execute_result"
    }
   ],
   "source": [
    "df_item=pd.read_csv(\"df_items1.csv\")\n",
    "df_item.head()"
   ]
  },
  {
   "cell_type": "code",
   "execution_count": null,
   "metadata": {},
   "outputs": [],
   "source": [
    "df_games.info()"
   ]
  },
  {
   "cell_type": "code",
   "execution_count": 8,
   "metadata": {},
   "outputs": [],
   "source": [
    "\n",
    "df_games=df_games.drop(['publisher','app_name', 'reviews_url','specs','price', 'early_access','developer'],axis=1)\n",
    "df_item=df_item.drop(['item_name','playtime_2weeks'],axis=1)\n",
    "df_item = df_item.set_index('item_id')\n",
    "\n",
    "\n",
    "# Supongamos que tienes los DataFrames df_generos y df_item\n",
    "# Realiza el merge de ambos DataFrames\n",
    "merged_df = pd.merge(df_games, df_item, left_on='id', right_on='item_id', how='inner')\n",
    "# Extraer los primeros cuatro caracteres de \"release_date\" y convertirlos a enteros\n",
    "merged_df=merged_df.dropna()\n",
    "merged_df['anio'] = merged_df['release_date'].str[:4]\n",
    "#merged_df.drop(['release_date','user_id'],axis=1) mejor no la borro xq sirve par funcion2\n"
   ]
  },
  {
   "cell_type": "code",
   "execution_count": 11,
   "metadata": {},
   "outputs": [
    {
     "name": "stdout",
     "output_type": "stream",
     "text": [
      "<class 'pandas.core.frame.DataFrame'>\n",
      "RangeIndex: 9975166 entries, 0 to 9975165\n",
      "Data columns (total 6 columns):\n",
      " #   Column            Dtype \n",
      "---  ------            ----- \n",
      " 0   genres            object\n",
      " 1   release_date      object\n",
      " 2   id                int32 \n",
      " 3   playtime_forever  int64 \n",
      " 4   user_id           object\n",
      " 5   anio              object\n",
      "dtypes: int32(1), int64(1), object(4)\n",
      "memory usage: 418.6+ MB\n"
     ]
    }
   ],
   "source": [
    "merged_df.info()"
   ]
  },
  {
   "cell_type": "code",
   "execution_count": null,
   "metadata": {},
   "outputs": [],
   "source": [
    "#para ver si la fecha tiene formato correcto despues de todas las transformaciones\n",
    "merged_df['release_date'] = pd.to_datetime(merged_df['release_date'], format='%Y-%m-%d', errors='coerce')"
   ]
  },
  {
   "cell_type": "code",
   "execution_count": 12,
   "metadata": {},
   "outputs": [
    {
     "ename": "ValueError",
     "evalue": "No axis named anio for object type DataFrame",
     "output_type": "error",
     "traceback": [
      "\u001b[1;31m---------------------------------------------------------------------------\u001b[0m",
      "\u001b[1;31mKeyError\u001b[0m                                  Traceback (most recent call last)",
      "File \u001b[1;32mc:\\Users\\Musi\\AppData\\Local\\Programs\\Python\\Python310\\lib\\site-packages\\pandas\\core\\generic.py:513\u001b[0m, in \u001b[0;36mNDFrame._get_axis_number\u001b[1;34m(cls, axis)\u001b[0m\n\u001b[0;32m    512\u001b[0m \u001b[39mtry\u001b[39;00m:\n\u001b[1;32m--> 513\u001b[0m     \u001b[39mreturn\u001b[39;00m \u001b[39mcls\u001b[39;49m\u001b[39m.\u001b[39;49m_AXIS_TO_AXIS_NUMBER[axis]\n\u001b[0;32m    514\u001b[0m \u001b[39mexcept\u001b[39;00m \u001b[39mKeyError\u001b[39;00m:\n",
      "\u001b[1;31mKeyError\u001b[0m: 'anio'",
      "\nDuring handling of the above exception, another exception occurred:\n",
      "\u001b[1;31mValueError\u001b[0m                                Traceback (most recent call last)",
      "\u001b[1;32md:\\Programs\\Python\\Python310\\Proyecto3\\Proyecto Individual\\ETL_CVSsParafuncioines.ipynb Celda 66\u001b[0m line \u001b[0;36m2\n\u001b[0;32m      <a href='vscode-notebook-cell:/d%3A/Programs/Python/Python310/Proyecto3/Proyecto%20Individual/ETL_CVSsParafuncioines.ipynb#Y145sZmlsZQ%3D%3D?line=0'>1</a>\u001b[0m \u001b[39m# Agrupar por \"release_date\" y sumar la columna \"time_forever\"\u001b[39;00m\n\u001b[1;32m----> <a href='vscode-notebook-cell:/d%3A/Programs/Python/Python310/Proyecto3/Proyecto%20Individual/ETL_CVSsParafuncioines.ipynb#Y145sZmlsZQ%3D%3D?line=1'>2</a>\u001b[0m resultados_agrupados \u001b[39m=\u001b[39m merged_df\u001b[39m.\u001b[39;49mgroupby(\u001b[39m'\u001b[39;49m\u001b[39mgenres\u001b[39;49m\u001b[39m'\u001b[39;49m,\u001b[39m'\u001b[39;49m\u001b[39manio\u001b[39;49m\u001b[39m'\u001b[39;49m)[\u001b[39m'\u001b[39m\u001b[39mplaytime_forever\u001b[39m\u001b[39m'\u001b[39m]\n",
      "File \u001b[1;32mc:\\Users\\Musi\\AppData\\Local\\Programs\\Python\\Python310\\lib\\site-packages\\pandas\\core\\frame.py:8260\u001b[0m, in \u001b[0;36mDataFrame.groupby\u001b[1;34m(self, by, axis, level, as_index, sort, group_keys, observed, dropna)\u001b[0m\n\u001b[0;32m   8258\u001b[0m \u001b[39mif\u001b[39;00m level \u001b[39mis\u001b[39;00m \u001b[39mNone\u001b[39;00m \u001b[39mand\u001b[39;00m by \u001b[39mis\u001b[39;00m \u001b[39mNone\u001b[39;00m:\n\u001b[0;32m   8259\u001b[0m     \u001b[39mraise\u001b[39;00m \u001b[39mTypeError\u001b[39;00m(\u001b[39m\"\u001b[39m\u001b[39mYou have to supply one of \u001b[39m\u001b[39m'\u001b[39m\u001b[39mby\u001b[39m\u001b[39m'\u001b[39m\u001b[39m and \u001b[39m\u001b[39m'\u001b[39m\u001b[39mlevel\u001b[39m\u001b[39m'\u001b[39m\u001b[39m\"\u001b[39m)\n\u001b[1;32m-> 8260\u001b[0m axis \u001b[39m=\u001b[39m \u001b[39mself\u001b[39;49m\u001b[39m.\u001b[39;49m_get_axis_number(axis)\n\u001b[0;32m   8262\u001b[0m \u001b[39mreturn\u001b[39;00m DataFrameGroupBy(\n\u001b[0;32m   8263\u001b[0m     obj\u001b[39m=\u001b[39m\u001b[39mself\u001b[39m,\n\u001b[0;32m   8264\u001b[0m     keys\u001b[39m=\u001b[39mby,\n\u001b[1;32m   (...)\u001b[0m\n\u001b[0;32m   8271\u001b[0m     dropna\u001b[39m=\u001b[39mdropna,\n\u001b[0;32m   8272\u001b[0m )\n",
      "File \u001b[1;32mc:\\Users\\Musi\\AppData\\Local\\Programs\\Python\\Python310\\lib\\site-packages\\pandas\\core\\generic.py:515\u001b[0m, in \u001b[0;36mNDFrame._get_axis_number\u001b[1;34m(cls, axis)\u001b[0m\n\u001b[0;32m    513\u001b[0m     \u001b[39mreturn\u001b[39;00m \u001b[39mcls\u001b[39m\u001b[39m.\u001b[39m_AXIS_TO_AXIS_NUMBER[axis]\n\u001b[0;32m    514\u001b[0m \u001b[39mexcept\u001b[39;00m \u001b[39mKeyError\u001b[39;00m:\n\u001b[1;32m--> 515\u001b[0m     \u001b[39mraise\u001b[39;00m \u001b[39mValueError\u001b[39;00m(\u001b[39mf\u001b[39m\u001b[39m\"\u001b[39m\u001b[39mNo axis named \u001b[39m\u001b[39m{\u001b[39;00maxis\u001b[39m}\u001b[39;00m\u001b[39m for object type \u001b[39m\u001b[39m{\u001b[39;00m\u001b[39mcls\u001b[39m\u001b[39m.\u001b[39m\u001b[39m__name__\u001b[39m\u001b[39m}\u001b[39;00m\u001b[39m\"\u001b[39m)\n",
      "\u001b[1;31mValueError\u001b[0m: No axis named anio for object type DataFrame"
     ]
    }
   ],
   "source": [
    "# Agrupar por \"genres\" y anio sumar la columna \"time_forever\"\n",
    "resultados_agrupados = merged_df.groupby('genres','anio')['playtime_forever']"
   ]
  },
  {
   "cell_type": "code",
   "execution_count": 10,
   "metadata": {},
   "outputs": [
    {
     "data": {
      "text/plain": [
       "anio\n",
       "0000      10594265\n",
       "1983         10746\n",
       "1984          1152\n",
       "1987          7951\n",
       "1988         88479\n",
       "1989         15015\n",
       "1990         26311\n",
       "1991          5723\n",
       "1992         30522\n",
       "1993        280722\n",
       "1994        195862\n",
       "1995        353247\n",
       "1996        244713\n",
       "1997       1305725\n",
       "1998       3683757\n",
       "1999       5704613\n",
       "2000      18966142\n",
       "2001       2811425\n",
       "2002       3672241\n",
       "2003      49237951\n",
       "2004     135301116\n",
       "2005      17833015\n",
       "2006     937865491\n",
       "2007      35425484\n",
       "2008      69464220\n",
       "2009     258921747\n",
       "2010     520194432\n",
       "2011    1166946671\n",
       "2012    1804316556\n",
       "2013    1567807325\n",
       "2014     637877193\n",
       "2015    1305542331\n",
       "2016     485126412\n",
       "2017     651255395\n",
       "2018         16725\n",
       "Name: playtime_forever, dtype: int64"
      ]
     },
     "execution_count": 10,
     "metadata": {},
     "output_type": "execute_result"
    }
   ],
   "source": [
    "resultados_agrupados"
   ]
  },
  {
   "cell_type": "code",
   "execution_count": 7,
   "metadata": {},
   "outputs": [],
   "source": [
    "# para las primeras 2 funciones no me sirve ya tengo el año\n",
    "del merged_df['release_date']"
   ]
  },
  {
   "cell_type": "code",
   "execution_count": null,
   "metadata": {},
   "outputs": [],
   "source": [
    "# Escribo csv\n",
    "merged_df.to_csv('Generos_fecha.csv', index=False)  # El argumento index=False evita que se escriba el índice en el archivo\n",
    "\n",
    "merged_df"
   ]
  },
  {
   "cell_type": "code",
   "execution_count": 9,
   "metadata": {},
   "outputs": [],
   "source": [
    "del merged_df # libero la memoria"
   ]
  },
  {
   "cell_type": "code",
   "execution_count": 11,
   "metadata": {},
   "outputs": [],
   "source": [
    "import pandas as pd\n",
    "#preparo csv par funcion 3\n",
    "df_games=pd.read_csv(\"games.csv\")\n",
    "\n"
   ]
  },
  {
   "cell_type": "code",
   "execution_count": 19,
   "metadata": {},
   "outputs": [],
   "source": [
    "df_ur=pd.read_csv('user_reviews.csv')\n",
    "df_item=pd.read_csv('df_items1.csv')"
   ]
  },
  {
   "cell_type": "code",
   "execution_count": 22,
   "metadata": {},
   "outputs": [],
   "source": [
    "df_item=df_item[['item_id','item_name']]"
   ]
  },
  {
   "cell_type": "code",
   "execution_count": null,
   "metadata": {},
   "outputs": [],
   "source": [
    "# valores unicos para despues hacer el merge\n",
    "df_item = df_item[['item_id', 'item_name']].drop_duplicates()\n",
    "df_item"
   ]
  },
  {
   "cell_type": "code",
   "execution_count": 41,
   "metadata": {},
   "outputs": [],
   "source": [
    "# Escribo csv\n",
    "df_urd.to_csv('funcion3.csv', index=False)  # El argumento index=False evita que se escriba el índice en el archivo"
   ]
  },
  {
   "cell_type": "code",
   "execution_count": 56,
   "metadata": {},
   "outputs": [],
   "source": [
    "df_ur=pd.read_csv(\"funcion3.csv\")"
   ]
  },
  {
   "cell_type": "code",
   "execution_count": 58,
   "metadata": {},
   "outputs": [],
   "source": [
    "df_ur['item_id']=df_ur['item_id'].astype(int)"
   ]
  },
  {
   "cell_type": "code",
   "execution_count": 46,
   "metadata": {},
   "outputs": [],
   "source": [
    "df_item=pd.read_csv(\"df_items1.csv\")"
   ]
  },
  {
   "cell_type": "code",
   "execution_count": 50,
   "metadata": {},
   "outputs": [],
   "source": [
    "df_item=df_item.drop(['playtime_forever','playtime_2weeks','user_id'],axis=1)"
   ]
  },
  {
   "cell_type": "code",
   "execution_count": 51,
   "metadata": {},
   "outputs": [],
   "source": [
    "df_item.drop_duplicates(inplace=True) # quero codigo nombre para hacer el merge "
   ]
  },
  {
   "cell_type": "code",
   "execution_count": 60,
   "metadata": {},
   "outputs": [],
   "source": [
    "# CREO CSV PARA FUNCIONES 3-4 Y 5\n",
    "# Realizo el merge de ambos DataFrames\n",
    "merged_df = pd.merge(df_ur, df_item, left_on='item_id', right_on='item_id', how='inner')"
   ]
  },
  {
   "cell_type": "code",
   "execution_count": 63,
   "metadata": {},
   "outputs": [],
   "source": [
    "merged_df=merged_df.sort_values(by='item_id')\n"
   ]
  },
  {
   "cell_type": "code",
   "execution_count": 65,
   "metadata": {},
   "outputs": [],
   "source": [
    "# Escribo csv\n",
    "merged_df.to_csv('func_3.csv', index=False) "
   ]
  },
  {
   "cell_type": "code",
   "execution_count": null,
   "metadata": {},
   "outputs": [],
   "source": []
  }
 ],
 "metadata": {
  "kernelspec": {
   "display_name": "Python 3",
   "language": "python",
   "name": "python3"
  },
  "language_info": {
   "codemirror_mode": {
    "name": "ipython",
    "version": 3
   },
   "file_extension": ".py",
   "mimetype": "text/x-python",
   "name": "python",
   "nbconvert_exporter": "python",
   "pygments_lexer": "ipython3",
   "version": "3.10.10"
  }
 },
 "nbformat": 4,
 "nbformat_minor": 2
}
