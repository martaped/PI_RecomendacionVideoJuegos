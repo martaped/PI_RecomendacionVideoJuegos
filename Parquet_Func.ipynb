{
 "cells": [
  {
   "cell_type": "code",
   "execution_count": 1,
   "metadata": {},
   "outputs": [],
   "source": [
    "import pandas as pd\n",
    "#PREPARO DATOS PARA FUNCION 1 Y 2\n",
    "df_games=pd.read_csv(\"games.csv\")\n"
   ]
  },
  {
   "cell_type": "code",
   "execution_count": 2,
   "metadata": {},
   "outputs": [],
   "source": [
    "import numpy as np\n",
    "\n",
    "# Elimina filas con valores no finitos\n",
    "df_games = df_games.dropna(subset=['id'])\n",
    "df = df_games[~df_games['id'].isin([np.inf, -np.inf])]\n",
    "# Convertir la columna \"id\" a tipo de dato int porque esta florante para q no ocupe espacio\n",
    "df_games['id'] = df_games['id'].astype(int)"
   ]
  },
  {
   "cell_type": "code",
   "execution_count": 3,
   "metadata": {},
   "outputs": [
    {
     "data": {
      "text/html": [
       "<div>\n",
       "<style scoped>\n",
       "    .dataframe tbody tr th:only-of-type {\n",
       "        vertical-align: middle;\n",
       "    }\n",
       "\n",
       "    .dataframe tbody tr th {\n",
       "        vertical-align: top;\n",
       "    }\n",
       "\n",
       "    .dataframe thead th {\n",
       "        text-align: right;\n",
       "    }\n",
       "</style>\n",
       "<table border=\"1\" class=\"dataframe\">\n",
       "  <thead>\n",
       "    <tr style=\"text-align: right;\">\n",
       "      <th></th>\n",
       "      <th>item_id</th>\n",
       "      <th>item_name</th>\n",
       "      <th>playtime_forever</th>\n",
       "      <th>playtime_2weeks</th>\n",
       "      <th>user_id</th>\n",
       "    </tr>\n",
       "  </thead>\n",
       "  <tbody>\n",
       "    <tr>\n",
       "      <th>0</th>\n",
       "      <td>10</td>\n",
       "      <td>Counter-Strike</td>\n",
       "      <td>6</td>\n",
       "      <td>0</td>\n",
       "      <td>76561197970982479</td>\n",
       "    </tr>\n",
       "    <tr>\n",
       "      <th>1</th>\n",
       "      <td>10</td>\n",
       "      <td>Counter-Strike</td>\n",
       "      <td>14</td>\n",
       "      <td>0</td>\n",
       "      <td>sprayandpray168543483</td>\n",
       "    </tr>\n",
       "    <tr>\n",
       "      <th>2</th>\n",
       "      <td>10</td>\n",
       "      <td>Counter-Strike</td>\n",
       "      <td>12</td>\n",
       "      <td>0</td>\n",
       "      <td>BlazingTheAmazing</td>\n",
       "    </tr>\n",
       "    <tr>\n",
       "      <th>3</th>\n",
       "      <td>10</td>\n",
       "      <td>Counter-Strike</td>\n",
       "      <td>10</td>\n",
       "      <td>0</td>\n",
       "      <td>WolfOfCSGOL</td>\n",
       "    </tr>\n",
       "    <tr>\n",
       "      <th>4</th>\n",
       "      <td>10</td>\n",
       "      <td>Counter-Strike</td>\n",
       "      <td>259</td>\n",
       "      <td>0</td>\n",
       "      <td>InstigatorAU</td>\n",
       "    </tr>\n",
       "  </tbody>\n",
       "</table>\n",
       "</div>"
      ],
      "text/plain": [
       "   item_id       item_name  playtime_forever  playtime_2weeks   \n",
       "0       10  Counter-Strike                 6                0  \\\n",
       "1       10  Counter-Strike                14                0   \n",
       "2       10  Counter-Strike                12                0   \n",
       "3       10  Counter-Strike                10                0   \n",
       "4       10  Counter-Strike               259                0   \n",
       "\n",
       "                 user_id  \n",
       "0      76561197970982479  \n",
       "1  sprayandpray168543483  \n",
       "2      BlazingTheAmazing  \n",
       "3            WolfOfCSGOL  \n",
       "4           InstigatorAU  "
      ]
     },
     "execution_count": 3,
     "metadata": {},
     "output_type": "execute_result"
    }
   ],
   "source": [
    "df_item=pd.read_csv(\"df_items1.csv\")\n",
    "df_item.head()"
   ]
  },
  {
   "cell_type": "code",
   "execution_count": 4,
   "metadata": {},
   "outputs": [],
   "source": [
    "df_games=df_games.drop(['publisher','app_name', 'reviews_url','specs','price', 'early_access','developer'],axis=1)"
   ]
  },
  {
   "cell_type": "code",
   "execution_count": 5,
   "metadata": {},
   "outputs": [],
   "source": [
    "df_item=df_item.drop(['item_name','playtime_2weeks'],axis=1)\n",
    "df_item = df_item.set_index('item_id')\n"
   ]
  },
  {
   "cell_type": "code",
   "execution_count": 6,
   "metadata": {},
   "outputs": [],
   "source": [
    "# Tengo los DataFrames df_generos y df_item\n",
    "# Realiza el merge de ambos DataFrames\n",
    "merged_df = pd.merge(df_games, df_item, left_on='id', right_on='item_id', how='inner')\n",
    "# Extraer los primeros cuatro caracteres de \"release_date\" y convertirlos a enteros\n",
    "merged_df=merged_df.dropna()\n",
    "merged_df['anio'] = merged_df['release_date'].str[:4]\n",
    "# extraigo el año"
   ]
  },
  {
   "cell_type": "code",
   "execution_count": 7,
   "metadata": {},
   "outputs": [],
   "source": [
    "#borro los años 0\n",
    "merged_df=merged_df[merged_df['anio']!=\"0000\"]"
   ]
  },
  {
   "cell_type": "code",
   "execution_count": null,
   "metadata": {},
   "outputs": [],
   "source": [
    "#para ver si la fecha tiene formato correcto despues de todas las transformaciones\n",
    "merged_df['release_date'] = pd.to_datetime(merged_df['release_date'], format='%Y-%m-%d', errors='coerce')"
   ]
  },
  {
   "cell_type": "code",
   "execution_count": null,
   "metadata": {},
   "outputs": [],
   "source": [
    "# Agrupar por \"genres\" y anio sumar la columna \"time_forever\"\n",
    "#resultados_agrupados = merged_df.groupby('genres','anio')['playtime_forever']\n",
    "\n",
    "resultados_agrupados = merged_df.groupby(['genres', 'anio'])['playtime_forever'].sum()\n",
    "\n",
    "# Convierte el índice en una columna\n",
    "resultados_agrupados = resultados_agrupados.reset_index()\n",
    "\n"
   ]
  },
  {
   "cell_type": "code",
   "execution_count": null,
   "metadata": {},
   "outputs": [],
   "source": [
    "# GRABO GENEROS FECHA FUNCION 1\n",
    "resultados_agrupados.to_parquet('Generos_fecha.parquet',index=False)"
   ]
  },
  {
   "cell_type": "code",
   "execution_count": 8,
   "metadata": {},
   "outputs": [],
   "source": [
    "#Para la funcion 2 USUARIOS TIEMPO \n",
    "# Agrupar por  y sumar la columna \"time_forever\"\n",
    "resultados_agrupados2 = merged_df.groupby(['genres','anio','user_id'])['playtime_forever'].sum()\n",
    "# Convierte el índice en una columna\n",
    "resultados_agrupados2 = resultados_agrupados2.reset_index()"
   ]
  },
  {
   "cell_type": "code",
   "execution_count": 11,
   "metadata": {},
   "outputs": [],
   "source": [
    "# VOY A ELIMINAR LA MITAD DEL DF PARA VER SI FUNCIONA RENDER\n",
    "# Crear una serie booleana para seleccionar filas con índices impares\n",
    "filas_a_eliminar = resultados_agrupados2.index % 2 == 1\n",
    "\n",
    "# Utilizar la función drop para eliminar las filas con índices impares\n",
    "resultados_agrupados2 = resultados_agrupados2[~filas_a_eliminar]"
   ]
  },
  {
   "cell_type": "code",
   "execution_count": 12,
   "metadata": {},
   "outputs": [
    {
     "data": {
      "text/html": [
       "<div>\n",
       "<style scoped>\n",
       "    .dataframe tbody tr th:only-of-type {\n",
       "        vertical-align: middle;\n",
       "    }\n",
       "\n",
       "    .dataframe tbody tr th {\n",
       "        vertical-align: top;\n",
       "    }\n",
       "\n",
       "    .dataframe thead th {\n",
       "        text-align: right;\n",
       "    }\n",
       "</style>\n",
       "<table border=\"1\" class=\"dataframe\">\n",
       "  <thead>\n",
       "    <tr style=\"text-align: right;\">\n",
       "      <th></th>\n",
       "      <th>genres</th>\n",
       "      <th>anio</th>\n",
       "      <th>user_id</th>\n",
       "      <th>playtime_forever</th>\n",
       "    </tr>\n",
       "  </thead>\n",
       "  <tbody>\n",
       "    <tr>\n",
       "      <th>0</th>\n",
       "      <td>Action</td>\n",
       "      <td>1983</td>\n",
       "      <td>2Ta4</td>\n",
       "      <td>18</td>\n",
       "    </tr>\n",
       "    <tr>\n",
       "      <th>2</th>\n",
       "      <td>Action</td>\n",
       "      <td>1983</td>\n",
       "      <td>76561197966936422</td>\n",
       "      <td>331</td>\n",
       "    </tr>\n",
       "    <tr>\n",
       "      <th>4</th>\n",
       "      <td>Action</td>\n",
       "      <td>1983</td>\n",
       "      <td>76561197969020980</td>\n",
       "      <td>98</td>\n",
       "    </tr>\n",
       "    <tr>\n",
       "      <th>6</th>\n",
       "      <td>Action</td>\n",
       "      <td>1983</td>\n",
       "      <td>76561197971951483</td>\n",
       "      <td>27</td>\n",
       "    </tr>\n",
       "    <tr>\n",
       "      <th>8</th>\n",
       "      <td>Action</td>\n",
       "      <td>1983</td>\n",
       "      <td>76561197973470219</td>\n",
       "      <td>0</td>\n",
       "    </tr>\n",
       "    <tr>\n",
       "      <th>...</th>\n",
       "      <td>...</td>\n",
       "      <td>...</td>\n",
       "      <td>...</td>\n",
       "      <td>...</td>\n",
       "    </tr>\n",
       "    <tr>\n",
       "      <th>3435532</th>\n",
       "      <td>Web Publishing</td>\n",
       "      <td>2017</td>\n",
       "      <td>76561198045638432</td>\n",
       "      <td>1877</td>\n",
       "    </tr>\n",
       "    <tr>\n",
       "      <th>3435534</th>\n",
       "      <td>Web Publishing</td>\n",
       "      <td>2017</td>\n",
       "      <td>76561198068809841</td>\n",
       "      <td>886</td>\n",
       "    </tr>\n",
       "    <tr>\n",
       "      <th>3435536</th>\n",
       "      <td>Web Publishing</td>\n",
       "      <td>2017</td>\n",
       "      <td>DougyFed</td>\n",
       "      <td>329</td>\n",
       "    </tr>\n",
       "    <tr>\n",
       "      <th>3435538</th>\n",
       "      <td>Web Publishing</td>\n",
       "      <td>2017</td>\n",
       "      <td>N47H4NI3L</td>\n",
       "      <td>1635</td>\n",
       "    </tr>\n",
       "    <tr>\n",
       "      <th>3435540</th>\n",
       "      <td>Web Publishing</td>\n",
       "      <td>2017</td>\n",
       "      <td>kushziller</td>\n",
       "      <td>251</td>\n",
       "    </tr>\n",
       "  </tbody>\n",
       "</table>\n",
       "<p>1717771 rows × 4 columns</p>\n",
       "</div>"
      ],
      "text/plain": [
       "                 genres  anio            user_id  playtime_forever\n",
       "0                Action  1983               2Ta4                18\n",
       "2                Action  1983  76561197966936422               331\n",
       "4                Action  1983  76561197969020980                98\n",
       "6                Action  1983  76561197971951483                27\n",
       "8                Action  1983  76561197973470219                 0\n",
       "...                 ...   ...                ...               ...\n",
       "3435532  Web Publishing  2017  76561198045638432              1877\n",
       "3435534  Web Publishing  2017  76561198068809841               886\n",
       "3435536  Web Publishing  2017           DougyFed               329\n",
       "3435538  Web Publishing  2017          N47H4NI3L              1635\n",
       "3435540  Web Publishing  2017         kushziller               251\n",
       "\n",
       "[1717771 rows x 4 columns]"
      ]
     },
     "execution_count": 12,
     "metadata": {},
     "output_type": "execute_result"
    }
   ],
   "source": [
    "resultados_agrupados2\n"
   ]
  },
  {
   "cell_type": "code",
   "execution_count": 10,
   "metadata": {},
   "outputs": [],
   "source": [
    "# Creo parquet para la segunda funcion\n",
    "# Escribe el DataFrame en un archivo Parquet\n",
    "\n",
    "resultados_agrupados2.to_parquet('Usuarios_tiempo2.parquet', index=False)\n"
   ]
  },
  {
   "cell_type": "code",
   "execution_count": null,
   "metadata": {},
   "outputs": [],
   "source": [
    "import pandas as pd\n",
    "# FUNCIONES 3 Y 4 PREPARO LOS ARVHICOS\n",
    "df_games=pd.read_csv(\"games.csv\")\n",
    "\n",
    "df_games.dropna(inplace=True)\n",
    "df_ur=pd.read_csv('user_reviews.csv')\n",
    "df_item=pd.read_csv('df_items1.csv')"
   ]
  },
  {
   "cell_type": "code",
   "execution_count": null,
   "metadata": {},
   "outputs": [],
   "source": [
    "df_item=df_item[['item_id','item_name']]"
   ]
  },
  {
   "cell_type": "code",
   "execution_count": null,
   "metadata": {},
   "outputs": [],
   "source": [
    "# valores unicos para despues hacer el merge\n",
    "df_item = df_item[['item_id', 'item_name']].drop_duplicates()\n",
    "df_item"
   ]
  },
  {
   "cell_type": "code",
   "execution_count": null,
   "metadata": {},
   "outputs": [],
   "source": [
    "# CREO CSV PARA FUNCIONES 3-4 Y 5\n",
    "df_ur=pd.read_csv(\"funcion3.csv\")\n",
    "df_ur['item_id']=df_ur['item_id'].astype(int)\n",
    "df_item=pd.read_csv(\"df_items1.csv\")\n",
    "df_item.dropna(inplace=True)\n",
    "df_item=df_item.drop(['playtime_forever','playtime_2weeks','user_id'],axis=1)\n",
    "# Realizo el merge de ambos DataFrames\n",
    "merged_df = pd.merge(df_ur, df_item, left_on='item_id', right_on='item_id', how='inner')\n",
    "merged_df=merged_df.sort_values(by='item_id')"
   ]
  },
  {
   "cell_type": "code",
   "execution_count": null,
   "metadata": {},
   "outputs": [],
   "source": [
    "# Escribo csv\n",
    "# Guarda el DataFrame en formato Parquet sin incluir el índice\n",
    "merged_df.to_parquet('func_3.parquet', index=False)\n",
    "\n",
    "#merged_df.to_csv('func_3.csv', index=False) "
   ]
  },
  {
   "cell_type": "code",
   "execution_count": null,
   "metadata": {},
   "outputs": [],
   "source": []
  }
 ],
 "metadata": {
  "kernelspec": {
   "display_name": "Python 3",
   "language": "python",
   "name": "python3"
  },
  "language_info": {
   "codemirror_mode": {
    "name": "ipython",
    "version": 3
   },
   "file_extension": ".py",
   "mimetype": "text/x-python",
   "name": "python",
   "nbconvert_exporter": "python",
   "pygments_lexer": "ipython3",
   "version": "3.10.10"
  }
 },
 "nbformat": 4,
 "nbformat_minor": 2
}
